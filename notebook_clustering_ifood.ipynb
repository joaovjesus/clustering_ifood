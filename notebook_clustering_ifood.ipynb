{
 "cells": [
  {
   "cell_type": "markdown",
   "metadata": {},
   "source": [
    "# Contexto\n",
    "\n",
    "![ifood](https://imagens.ne10.uol.com.br/veiculos/_midias/jpg/2021/11/02/806x444/1_capturar-19381193.jpg)\n",
    "\n",
    "Dados públicos de abril/21 - Em 2021, a empresa atingiu uma nova marca de 60 milhões de pedidos mensais.  \n",
    "Crescimento de 100% em um ano; mais de 110.000 restaurantes se inscreveram na plataforma nos últimos 12 meses.  \n",
    "Só em março, o mês mais letal da pandemia para o Brasil, 270 mil restaurantes operavam com a plataforma iFood.  \n",
    "\n",
    "Fonte: [labsnews.com/en/articles/business/ifood-60-million-monthly-orders-amid-the-pandemic/](labsnews.com/en/articles/business/ifood-60-million-monthly-orders-amid-the-pandemic/)\n",
    "\n",
    "Quando o assunto é popularidade, o iFood segue sendo o aplicativo mais citado pelos respondentes, com 91,6% de citações.\n",
    "\n",
    "Fonte: [exame.com/negocios/nps-ifood-e-melhor-e-mais-popular-app-de-delivery-diz-pesquisa/](exame.com/negocios/nps-ifood-e-melhor-e-mais-popular-app-de-delivery-diz-pesquisa/)\n",
    "\n",
    "A diversidade e amplitude de clientes que utilizam a plataforma do iFood é gigante - a cobertura do aplicativo se  \n",
    "estende por muitas geografias no Brasil, de múltiplos gostos, regionalismos e bolsos. Alguns buscam uma experiência  \n",
    "no momento da refeição, outros só querem receber a marmita na hora certa para não se atrasar para a primeira reunião pós-almoço.  \n"
   ]
  },
  {
   "cell_type": "markdown",
   "metadata": {},
   "source": [
    "# Objetivo\n",
    "\n",
    "Neste contexto, esse notebook visa explorar os dados para entender melhor os perfis de clientes do iFood para responder as seguintes perguntas:  \n",
    "Quem é o mais fiel e quem mais compra na plataforma?  \n",
    "Quem mais gosta de cupom?  \n",
    "Quem gosta de entrega grátis?  \n",
    "Qual o padrão de consumo?  \n",
    "Qual o padrão de comportamento?  \n",
    "Quanto os clientes vão gastar? Onde?\n",
    "\n",
    "Para isso, serão usadas técnicas de aprendizado não supervisionado. Este documento é dividido da seguinte forma:  \n",
    "\n",
    "* Análise exploratória dos dados  \n",
    "* Pré-processamento dos dados  \n",
    "* Implementação e análise do modelo  \n",
    "* Conclusões  \n",
    "\n",
    "Para esse estudo foram disponibilizados três datasets, são eles \"Marketing\", \"Orders\" e \"sessions\".  \n",
    "Como o objetivo é caracterizar o perfil dos clientes, o dataset \"sessions\" que contém dados de sessões no aplicativo não será utilizado.  \n",
    "\n",
    "As linhas de código abaixo carregam as bibliotecas necessárias e a base de dados para o estudo."
   ]
  },
  {
   "cell_type": "code",
   "execution_count": 1,
   "metadata": {},
   "outputs": [],
   "source": [
    "import pandas as pd\n",
    "import  numpy as np\n",
    "import missingno as msno\n",
    "import matplotlib.pyplot as plt\n",
    "import seaborn as sns\n",
    "\n",
    "from sklearn.preprocessing import RobustScaler\n",
    "from kmodes.kprototypes import KPrototypes"
   ]
  },
  {
   "cell_type": "code",
   "execution_count": 2,
   "metadata": {},
   "outputs": [],
   "source": [
    "marketing_df = pd.read_table('data/Marketing.xls', sep=';')\n",
    "orders_df = pd.read_table('data/Orders.xls', sep=';')"
   ]
  },
  {
   "cell_type": "markdown",
   "metadata": {},
   "source": [
    "# Análise exploratória dos dados  \n",
    "\n",
    "Nesta seção serão exploradas as características básicas dos datasets, como dimensões e variáveis.  \n",
    "\n",
    "### **marketing_df**:  \n",
    "\n",
    "Este dataset apresenta informações sobre o uso da plataforma pelos clientes. Contendo 20249 linhas e 6 colunas, cada linha representa um cliente e cada coluna uma característica de uso, detalhadas abaixo:  \n",
    "\n",
    "* **account_id**: ID do usuário (categórica)   \n",
    "* **registration_date**: Data de registro da conta (categórica)  \n",
    "* **ifood_status_last_month**: Situação do cliente na plataforma no mês anterior (categórica)  \n",
    "* **ifood_status**: Situação atual do cliente na plataforma (categórica)  \n",
    "\n",
    "    Tanto para a coluna **ifood_status_last_month** tanto para **ifood_status**, os valores podem ser os seguintes:\n",
    "\n",
    "    - **Active**: O cliente tem um pedido concluído no mês atual e não é \"Reactivated\".\n",
    "    - **Inactive**: O cliente tem um primeiro pedido concluído, mas não esteve ativo no mêss atual e no mês passado.\n",
    "    - **Churn**: O cliente tem pedidos concluídos no mês passado, mas ainda não fez nenhum pedido no mês atual.\n",
    "    - **Reactivated**: O cliente tem um pedido concluído no mês atual, mas nenhum pedido no mês passado e não é um novo cliente.\n",
    "    - **Prospect**: O cliente ainda não fez o primeiro pedido.\n",
    "    - **New**: Primeiro pedido concluído feito no mês atual.  \n",
    "\n",
    "    \n",
    "* **total_order_count**: Total de pedidos feitos pelo cliente (numérica)\n",
    "* **first_order_date**: Data do primeiro pedido feito pelo cliente (categórica)  "
   ]
  },
  {
   "cell_type": "code",
   "execution_count": 3,
   "metadata": {},
   "outputs": [
    {
     "name": "stdout",
     "output_type": "stream",
     "text": [
      "<class 'pandas.core.frame.DataFrame'>\n",
      "RangeIndex: 20249 entries, 0 to 20248\n",
      "Data columns (total 6 columns):\n",
      " #   Column                   Non-Null Count  Dtype \n",
      "---  ------                   --------------  ----- \n",
      " 0   account_id               20249 non-null  object\n",
      " 1   registration_date        20249 non-null  object\n",
      " 2   ifood_status             20249 non-null  object\n",
      " 3   ifood_status_last_month  20249 non-null  object\n",
      " 4   total_order_count        20249 non-null  int64 \n",
      " 5   first_order_date         20248 non-null  object\n",
      "dtypes: int64(1), object(5)\n",
      "memory usage: 949.3+ KB\n"
     ]
    }
   ],
   "source": [
    "marketing_df.info()"
   ]
  },
  {
   "cell_type": "code",
   "execution_count": 4,
   "metadata": {},
   "outputs": [
    {
     "data": {
      "text/plain": [
       "ifood_status\n",
       "Active         11648\n",
       "Inactive        4805\n",
       "Churn           3355\n",
       "Reactivated      440\n",
       "Prospect           1\n",
       "Name: count, dtype: int64"
      ]
     },
     "execution_count": 4,
     "metadata": {},
     "output_type": "execute_result"
    }
   ],
   "source": [
    "marketing_df.ifood_status.value_counts()"
   ]
  },
  {
   "cell_type": "code",
   "execution_count": 5,
   "metadata": {},
   "outputs": [
    {
     "data": {
      "text/plain": [
       "ifood_status_last_month\n",
       "Active         14080\n",
       "Inactive        4583\n",
       "Reactivated      922\n",
       "Churn            662\n",
       "New                1\n",
       "Prospect           1\n",
       "Name: count, dtype: int64"
      ]
     },
     "execution_count": 5,
     "metadata": {},
     "output_type": "execute_result"
    }
   ],
   "source": [
    "marketing_df.ifood_status_last_month.value_counts()"
   ]
  },
  {
   "cell_type": "markdown",
   "metadata": {},
   "source": [
    "O código abaixo apresenta uma amostra dos dados:"
   ]
  },
  {
   "cell_type": "code",
   "execution_count": 6,
   "metadata": {},
   "outputs": [
    {
     "data": {
      "text/html": [
       "<div>\n",
       "<style scoped>\n",
       "    .dataframe tbody tr th:only-of-type {\n",
       "        vertical-align: middle;\n",
       "    }\n",
       "\n",
       "    .dataframe tbody tr th {\n",
       "        vertical-align: top;\n",
       "    }\n",
       "\n",
       "    .dataframe thead th {\n",
       "        text-align: right;\n",
       "    }\n",
       "</style>\n",
       "<table border=\"1\" class=\"dataframe\">\n",
       "  <thead>\n",
       "    <tr style=\"text-align: right;\">\n",
       "      <th></th>\n",
       "      <th>account_id</th>\n",
       "      <th>registration_date</th>\n",
       "      <th>ifood_status</th>\n",
       "      <th>ifood_status_last_month</th>\n",
       "      <th>total_order_count</th>\n",
       "      <th>first_order_date</th>\n",
       "    </tr>\n",
       "  </thead>\n",
       "  <tbody>\n",
       "    <tr>\n",
       "      <th>0</th>\n",
       "      <td>7c0450e7-a806-4208-8449-e4269a27e6b5</td>\n",
       "      <td>2020-02-02</td>\n",
       "      <td>Inactive</td>\n",
       "      <td>Inactive</td>\n",
       "      <td>8</td>\n",
       "      <td>2020-02-28</td>\n",
       "    </tr>\n",
       "    <tr>\n",
       "      <th>1</th>\n",
       "      <td>16d0afba-00b8-427a-ba1f-2e397a9fbb54</td>\n",
       "      <td>2016-05-17</td>\n",
       "      <td>Churn</td>\n",
       "      <td>Active</td>\n",
       "      <td>457</td>\n",
       "      <td>2017-03-19</td>\n",
       "    </tr>\n",
       "    <tr>\n",
       "      <th>2</th>\n",
       "      <td>61c051ee-d37c-45c6-8c22-c236db3b62b7</td>\n",
       "      <td>2018-09-02</td>\n",
       "      <td>Active</td>\n",
       "      <td>Active</td>\n",
       "      <td>206</td>\n",
       "      <td>2018-09-02</td>\n",
       "    </tr>\n",
       "    <tr>\n",
       "      <th>3</th>\n",
       "      <td>82e48692-e4fa-494e-b03e-6815a819b7b1</td>\n",
       "      <td>2017-11-10</td>\n",
       "      <td>Reactivated</td>\n",
       "      <td>Churn</td>\n",
       "      <td>47</td>\n",
       "      <td>2018-05-01</td>\n",
       "    </tr>\n",
       "    <tr>\n",
       "      <th>4</th>\n",
       "      <td>382af025-14c8-4ba9-b62f-deddd6f25789</td>\n",
       "      <td>2019-08-05</td>\n",
       "      <td>Inactive</td>\n",
       "      <td>Inactive</td>\n",
       "      <td>66</td>\n",
       "      <td>2019-08-12</td>\n",
       "    </tr>\n",
       "  </tbody>\n",
       "</table>\n",
       "</div>"
      ],
      "text/plain": [
       "                             account_id registration_date ifood_status  \\\n",
       "0  7c0450e7-a806-4208-8449-e4269a27e6b5        2020-02-02     Inactive   \n",
       "1  16d0afba-00b8-427a-ba1f-2e397a9fbb54        2016-05-17        Churn   \n",
       "2  61c051ee-d37c-45c6-8c22-c236db3b62b7        2018-09-02       Active   \n",
       "3  82e48692-e4fa-494e-b03e-6815a819b7b1        2017-11-10  Reactivated   \n",
       "4  382af025-14c8-4ba9-b62f-deddd6f25789        2019-08-05     Inactive   \n",
       "\n",
       "  ifood_status_last_month  total_order_count first_order_date  \n",
       "0                Inactive                  8       2020-02-28  \n",
       "1                  Active                457       2017-03-19  \n",
       "2                  Active                206       2018-09-02  \n",
       "3                   Churn                 47       2018-05-01  \n",
       "4                Inactive                 66       2019-08-12  "
      ]
     },
     "execution_count": 6,
     "metadata": {},
     "output_type": "execute_result"
    }
   ],
   "source": [
    "marketing_df.head()"
   ]
  },
  {
   "cell_type": "code",
   "execution_count": 7,
   "metadata": {},
   "outputs": [
    {
     "data": {
      "text/plain": [
       "account_id                 0.000000\n",
       "registration_date          0.000000\n",
       "ifood_status               0.000000\n",
       "ifood_status_last_month    0.000000\n",
       "total_order_count          0.000000\n",
       "first_order_date           0.004939\n",
       "dtype: float64"
      ]
     },
     "execution_count": 7,
     "metadata": {},
     "output_type": "execute_result"
    }
   ],
   "source": [
    "marketing_df.isna().mean()*100"
   ]
  },
  {
   "cell_type": "markdown",
   "metadata": {},
   "source": [
    "Ao avaliar a integridade dos dados, verifica-se que a variável \"first_order_date\" possui 0,0049% dos dados faltantes.  \n",
    "\n",
    "#### Explorando a variável numérica\n",
    "\n",
    "O código abaixo obtem as estatísticas descritivas da variável númerica \"total_order_count\". Essa variável aparenta possuir outliers, valores que usualmente não deveriam aparecer, pois os valores máximos estão muito superiores ao percentil de 99%. Um outro indicativo disso é que a média de pedidos por cliente é de 341, porém o desvio padrão é de 303 pedidos, sendo um valor muito alto, provavelmente devido a influência dos outliers.\n",
    "Através do histograma é apresentada uma representação visual da distribuição de pedidos."
   ]
  },
  {
   "cell_type": "code",
   "execution_count": 8,
   "metadata": {},
   "outputs": [
    {
     "data": {
      "text/plain": [
       "count    20249.000000\n",
       "mean       341.321201\n",
       "std        303.150112\n",
       "min          0.000000\n",
       "25%         91.000000\n",
       "50%        286.000000\n",
       "75%        501.000000\n",
       "99%       1329.040000\n",
       "max       3098.000000\n",
       "Name: total_order_count, dtype: float64"
      ]
     },
     "execution_count": 8,
     "metadata": {},
     "output_type": "execute_result"
    }
   ],
   "source": [
    "marketing_df['total_order_count'].describe(percentiles=[0.25, 0.5, 0.75, 0.99])"
   ]
  },
  {
   "cell_type": "code",
   "execution_count": 9,
   "metadata": {},
   "outputs": [
    {
     "data": {
      "image/png": "[encoded data removed]",
      "text/plain": [
       "<Figure size 640x480 with 1 Axes>"
      ]
     },
     "metadata": {},
     "output_type": "display_data"
    }
   ],
   "source": [
    "marketing_df['total_order_count'].hist()\n",
    "plt.xlabel('Total de pedidos por cliente')\n",
    "plt.ylabel('Quantidade de clientes')\n",
    "plt.show()"
   ]
  },
  {
   "cell_type": "markdown",
   "metadata": {},
   "source": [
    "#### Explorando as variáveis categóricas"
   ]
  },
  {
   "cell_type": "markdown",
   "metadata": {},
   "source": [
    "O código abaixo mostra que o número de usuários ativos na plataforma caiu 17% em relação ao mês anterior,  \n",
    "a possibilidade de churn aumentou em 406% e o número de contas que foram reativadas caiu 52%,  \n",
    "ao passo que não houve nenhum novo cliente no mês atual."
   ]
  },
  {
   "cell_type": "code",
   "execution_count": 10,
   "metadata": {},
   "outputs": [
    {
     "data": {
      "text/plain": [
       "ifood_status\n",
       "Active         57.523828\n",
       "Inactive       23.729567\n",
       "Churn          16.568719\n",
       "Reactivated     2.172947\n",
       "Prospect        0.004939\n",
       "Name: proportion, dtype: float64"
      ]
     },
     "execution_count": 10,
     "metadata": {},
     "output_type": "execute_result"
    }
   ],
   "source": [
    "current_status = marketing_df['ifood_status'].value_counts(normalize=True)\n",
    "current_status*100"
   ]
  },
  {
   "cell_type": "code",
   "execution_count": 11,
   "metadata": {},
   "outputs": [
    {
     "data": {
      "text/plain": [
       "ifood_status_last_month\n",
       "Active         69.534298\n",
       "Inactive       22.633216\n",
       "Reactivated     4.553311\n",
       "Churn           3.269297\n",
       "New             0.004939\n",
       "Prospect        0.004939\n",
       "Name: proportion, dtype: float64"
      ]
     },
     "execution_count": 11,
     "metadata": {},
     "output_type": "execute_result"
    }
   ],
   "source": [
    "last_month_status = marketing_df['ifood_status_last_month'].value_counts(normalize=True)\n",
    "last_month_status*100"
   ]
  },
  {
   "cell_type": "code",
   "execution_count": 12,
   "metadata": {},
   "outputs": [
    {
     "data": {
      "text/plain": [
       "Active         -17.272727\n",
       "Churn          406.797583\n",
       "Inactive         4.843989\n",
       "New                   NaN\n",
       "Prospect         0.000000\n",
       "Reactivated    -52.277657\n",
       "Name: proportion, dtype: float64"
      ]
     },
     "execution_count": 12,
     "metadata": {},
     "output_type": "execute_result"
    }
   ],
   "source": [
    "((current_status - last_month_status) / last_month_status) * 100"
   ]
  },
  {
   "cell_type": "markdown",
   "metadata": {},
   "source": [
    "Anteriormente verificou-se que a variável \"first_order_date\" possui apenas 0,0049% de dados faltantes. Como é um valor baixo em relação ao todo, tomou-se a decisão de removê-las do dataset."
   ]
  },
  {
   "cell_type": "code",
   "execution_count": 13,
   "metadata": {},
   "outputs": [
    {
     "name": "stdout",
     "output_type": "stream",
     "text": [
      "Apenas 0.0049% das linhas contém dados faltantes.\n"
     ]
    }
   ],
   "source": [
    "isnull_count = (marketing_df[marketing_df['first_order_date'].isnull()].shape[0]*100)/marketing_df.shape[0]\n",
    "\n",
    "print(\"Apenas {:.4f}% das linhas contém dados faltantes.\".format(isnull_count))"
   ]
  },
  {
   "cell_type": "code",
   "execution_count": 14,
   "metadata": {},
   "outputs": [
    {
     "data": {
      "text/plain": [
       "account_id                 0.0\n",
       "registration_date          0.0\n",
       "ifood_status               0.0\n",
       "ifood_status_last_month    0.0\n",
       "total_order_count          0.0\n",
       "first_order_date           0.0\n",
       "dtype: float64"
      ]
     },
     "execution_count": 14,
     "metadata": {},
     "output_type": "execute_result"
    }
   ],
   "source": [
    "marketing_df_mis = marketing_df.dropna()\n",
    "marketing_df_mis.isna().mean()*100"
   ]
  },
  {
   "cell_type": "markdown",
   "metadata": {},
   "source": [
    "### **orders_df**:  \n",
    "\n",
    "Este dataset apresenta informações sobre os pedidos realizados na plataforma. Contendo 226269 linhas e 34 colunas, cada linha representa um pedido e cada coluna uma característica do pedido, detalhadas abaixo:  \n",
    "\n",
    "* **order_id**: ID único para pedido (categórica)   \n",
    "* **order_shift**: Dia e período do dia que foi realizado o pedido (categórica)  \n",
    "* **order_origin**: Tipo do Merchant (categórica)  \n",
    "* **delivery_fee**: Taxa de entrega paga pelo cliente (numérica)    \n",
    "* **scheduled**: Booleano que indica se o pedido foi agendado (booleano)\n",
    "* **total_amount**: Valor total pago pelo cliente (em Unidades Monetárias UM) (numérica)  \n",
    "* **subsidy_amount**: Subsídio, desconto dado no pedido (em Unidades Monetárias UM)  \n",
    "(para o valor final total do pedido: total_amount + subsidy) (numérica)  \n",
    "* **device_platform**: Plataforma (sistema operacional) utilizado para fazer o pedido (ANDROID, DESKTOP, etc) (categórica)  \n",
    "* **device_type**: Canal de origem do pedido (SITE, MOBILE, etc) (categórica)  \n",
    "* **device_app_version**: Versão do aplicativo do iFood que fez o pedido (categórica)  \n",
    "* **centroid_id**: Id da centroide do clientes (categórica)  \n",
    "* **state_label**: Sigla da UF do cliente (categórica)  \n",
    "* **city**: Cidade do cliente (categórica)  \n",
    "* **district**: Bairro do cliente (categórica)  \n",
    "* **customer_long**: Longitude do cliente (até 2ª casa decimal) - ~1km (numérica)  \n",
    "* **customer_lat**: Latitude do cliente (até 2ª casa decimal) - ~1km (numérica)  \n",
    "* **restaurant_id**: Identificador do restaurante (categórica)  \n",
    "* **dish_type**: Tipo de cozinha (categórica)  \n",
    "* **group_id**: Se o restaurante fizer parte de um grupo, essa é a identificação do grupo (categórica)  \n",
    "* **merchant_centroid_id**: Id da centroide (categórica)  \n",
    "* **merchant_state**: Sigla do UF do Merchant (categórica)  \n",
    "* **merchant_city**: Cidade do Merchant (categórica)  \n",
    "* **merchant_district***: Distrito do Merchant (categórica)  \n",
    "* **merchant_zipcode**: CEP do Merchant (numérica)  \n",
    "* **merchant_long**: Longitude do Merchant (até 2ª casa decimal) (numérica)  \n",
    "* **merchant_lat**: Latitude do Merchant (até 2ª casa decimal) (numérica)  \n",
    "* **has_free_delivery**: Booleano que indica se o pedido foi entrega gratis (categórica)  \n",
    "* **confirmed_date**: Data que o pedido foi confirmado pelo restaurante (datetime)  \n",
    "* **concluded_date**: Data em que o pedido foi concluído (datetime)  \n",
    "* **lag_last_order**: Tempo em dias entre o pedido atual e o último pedido do cliente (numérica)  \n",
    "* **account_id**: ID do usuário (categórica)  "
   ]
  },
  {
   "cell_type": "code",
   "execution_count": 15,
   "metadata": {},
   "outputs": [
    {
     "name": "stdout",
     "output_type": "stream",
     "text": [
      "<class 'pandas.core.frame.DataFrame'>\n",
      "RangeIndex: 226269 entries, 0 to 226268\n",
      "Data columns (total 34 columns):\n",
      " #   Column                Non-Null Count   Dtype  \n",
      "---  ------                --------------   -----  \n",
      " 0   order_id              226269 non-null  object \n",
      " 1   order_shift           226269 non-null  object \n",
      " 2   order_origin          226269 non-null  object \n",
      " 3   delivery_fee          226269 non-null  float64\n",
      " 4   scheduled             226269 non-null  bool   \n",
      " 5   total_amount          226269 non-null  float64\n",
      " 6   subsidy_amount        226269 non-null  float64\n",
      " 7   device_platform       226269 non-null  object \n",
      " 8   device_type           226269 non-null  object \n",
      " 9   device_app_version    221834 non-null  object \n",
      " 10  centroid_id           226269 non-null  object \n",
      " 11  state_label           226269 non-null  object \n",
      " 12  city                  226269 non-null  object \n",
      " 13  district              226269 non-null  object \n",
      " 14  customer_long         226269 non-null  float64\n",
      " 15  customer_lat          226269 non-null  float64\n",
      " 16  restaurant_id         226269 non-null  object \n",
      " 17  dish_type             226269 non-null  object \n",
      " 18  group_id              226269 non-null  object \n",
      " 19  merchant_centroid_id  226269 non-null  object \n",
      " 20  merchant_state        226269 non-null  object \n",
      " 21  merchant_city         226269 non-null  object \n",
      " 22  merchant_district     226269 non-null  object \n",
      " 23  merchant_zipcode      226269 non-null  int64  \n",
      " 24  merchant_long         226269 non-null  float64\n",
      " 25  merchant_lat          226269 non-null  float64\n",
      " 26  has_free_delivery     226269 non-null  bool   \n",
      " 27  confirmed_date        226255 non-null  object \n",
      " 28  concluded_date        226265 non-null  object \n",
      " 29  lag_last_order        226085 non-null  float64\n",
      " 30  account_id            226269 non-null  object \n",
      " 31  review_score          226269 non-null  float64\n",
      " 32  nps_score             226269 non-null  int64  \n",
      " 33  review_created_at     226269 non-null  object \n",
      "dtypes: bool(2), float64(9), int64(2), object(21)\n",
      "memory usage: 55.7+ MB\n"
     ]
    }
   ],
   "source": [
    "orders_df.info()"
   ]
  },
  {
   "cell_type": "markdown",
   "metadata": {},
   "source": [
    "O código abaixo é usado para verificar as categorias de cada variável categórica desse dataset."
   ]
  },
  {
   "cell_type": "code",
   "execution_count": 16,
   "metadata": {},
   "outputs": [
    {
     "name": "stdout",
     "output_type": "stream",
     "text": [
      "variável:\n",
      "order_id\n",
      "000f4c94-ec38-488b-ad98-9bf3ea19d517    1\n",
      "11c68cd1-0e71-49b1-aa10-d2d5585f6f90    1\n",
      "0f813802-a0c3-4989-ba7d-c6e2dce2ec1e    1\n",
      "0f9547fd-2cb4-4bf9-b70f-80a06974d82c    1\n",
      "10810555-50f0-4929-b51d-7d476d143222    1\n",
      "                                       ..\n",
      "b0af6537-51b6-45f5-ac8d-363bb5992d61    1\n",
      "b0afdc9a-7d2b-4742-b6d9-bb6307ad8cd7    1\n",
      "b1145f54-b104-4f4f-bc62-71e2c4fd8230    1\n",
      "b17e8128-89ac-475d-b3e4-eaaa85a8af78    1\n",
      "ff72056f-0530-4d33-9180-b9b735817edb    1\n",
      "Name: count, Length: 226269, dtype: int64\n",
      "variável:\n",
      "order_shift\n",
      "weekday lunch        58433\n",
      "weekday dinner       53720\n",
      "weekend dinner       50821\n",
      "weekend lunch        22782\n",
      "weekday snack        13382\n",
      "weekday breakfast    12358\n",
      "weekend snack         5909\n",
      "weekday dawn          3828\n",
      "weekend dawn          3329\n",
      "weekend breakfast     1707\n",
      "Name: count, dtype: int64\n",
      "variável:\n",
      "order_origin\n",
      "RESTAURANT      219886\n",
      "STORE             4798\n",
      "QUICKLY_MEAL      1585\n",
      "Name: count, dtype: int64\n",
      "variável:\n",
      "device_platform\n",
      "ANDROID    118145\n",
      "IOS         85040\n",
      "DESKTOP     23084\n",
      "Name: count, dtype: int64\n",
      "variável:\n",
      "device_type\n",
      "MOBILE    202494\n",
      "SITE       23775\n",
      "Name: count, dtype: int64\n",
      "variável:\n",
      "device_app_version\n",
      "9.37.1    9130\n",
      "9.46.1    7954\n",
      "9.54.0    6547\n",
      "9.64.0    6135\n",
      "9.44.0    5794\n",
      "          ... \n",
      "8.43.2       1\n",
      "8.49.1       1\n",
      "8.12.1       1\n",
      "9.12.0       1\n",
      "9.17.0       1\n",
      "Name: count, Length: 213, dtype: int64\n",
      "variável:\n",
      "centroid_id\n",
      "-23.59-46.75    2912\n",
      "-23.6-46.73     2394\n",
      "-22.97-43.19    2177\n",
      "-22.98-43.19    1946\n",
      "-22.94-43.18    1827\n",
      "                ... \n",
      "-16.7-49.26        1\n",
      "-23.2-46.87        1\n",
      "-23.49-45.07       1\n",
      "-22.47-44.43       1\n",
      "-23.61-46.86       1\n",
      "Name: count, Length: 4141, dtype: int64\n",
      "variável:\n",
      "state_label\n",
      "SP    129942\n",
      "RJ     74738\n",
      "PR     14216\n",
      "MG      1432\n",
      "DF       821\n",
      "RS       814\n",
      "CE       796\n",
      "SC       489\n",
      "PA       334\n",
      "GO       305\n",
      "ES       300\n",
      "BA       269\n",
      "PE       240\n",
      "MS       222\n",
      "AM       195\n",
      "SE       185\n",
      "PB       174\n",
      "MT       163\n",
      "PI       160\n",
      "AL       136\n",
      "RN       118\n",
      "RR        81\n",
      "MA        69\n",
      "RO        59\n",
      "AP         6\n",
      "TO         3\n",
      "AC         2\n",
      "Name: count, dtype: int64\n",
      "variável:\n",
      "city\n",
      "SAO PAULO         115186\n",
      "RIO DE JANEIRO     70862\n",
      "CURITIBA           13206\n",
      "NITEROI             1761\n",
      "GUARULHOS           1705\n",
      "                   ...  \n",
      "BATATAIS               1\n",
      "PORTEIRINHA            1\n",
      "CACERES                1\n",
      "FERNANDOPOLIS          1\n",
      "MARACANAU              1\n",
      "Name: count, Length: 315, dtype: int64\n",
      "variável:\n",
      "district\n",
      "Vila Mariana                  4023\n",
      "Centro                        3588\n",
      "Bela Vista                    3371\n",
      "COPACABANA                    3013\n",
      "Copacabana                    2992\n",
      "                              ... \n",
      "Jardim Ipanema(Zona Leste)       1\n",
      "Parque Bologne                   1\n",
      "Eng. Belford                     1\n",
      "Jardim Maria Antônia Prado       1\n",
      "CAMBUI                           1\n",
      "Name: count, Length: 4443, dtype: int64\n",
      "variável:\n",
      "restaurant_id\n",
      "b673fc594de4cf0015db6620559afe2e29e6acee429683df4bcf82301fb8b9b3    629\n",
      "f1416af976281df43ae8daabd5f5b0fa56487a7641c3c702c303ed51072d32b4    560\n",
      "d3dcb01f6b3626d611fbb2b43adceb218a9b0b68977c34136a1e252b2ac72199    441\n",
      "cc6f3a7a83faf0c0ce4e7ec414b1b1b29aedfce9143a67bc709e9fec5bc567b8    391\n",
      "6ae8352019bbc81a970005d68f84f5e0c38e00f3d223f01647b6339c064435e1    368\n",
      "                                                                   ... \n",
      "9219adcbe4499b489eb8a79044e99e8a23eb30aa495152bc3f90e2f6eb076e7f      1\n",
      "f5c16fda5992e11233c9706c6271ac2aaa45a4a191efc55069289e331029b13b      1\n",
      "c6cf9a28fb5790eadf7bbb2a425b25f83d707d24479868608a566971bb178d2c      1\n",
      "5551e0c9b51a22bc7b41f45bbdaae8b2db1db1027fece547e26e2e48a2c78ece      1\n",
      "49f6df943309a0ee58d5d953bc77f26312fa9e57168b0e66a0698c468862fe3f      1\n",
      "Name: count, Length: 38007, dtype: int64\n",
      "variável:\n",
      "dish_type\n",
      "Lanches              44267\n",
      "Comida Brasileira    42109\n",
      "Pizza                32496\n",
      "Comida Japonesa      31408\n",
      "Doces & Bolos         9592\n",
      "                     ...  \n",
      "Colombiana               2\n",
      "Africana                 2\n",
      "Xis                      2\n",
      "Paranaense               1\n",
      "Típica do Norte          1\n",
      "Name: count, Length: 61, dtype: int64\n",
      "variável:\n",
      "group_id\n",
      "ae3c8b8d99a39542f78af83dbbb42c81cd94199ec1b5f60a0801063e95842570    146490\n",
      "d1f320b6b48e3e8d776ca2c97d20ed08ad124c3851987b29588b26b065873684      3602\n",
      "6c87a914ae675436eed3905f052ea29f897396dfd8c75c2441bec0e631c5243b      2298\n",
      "81bab5fdb02f68291fb109bf9bcd420ea847be7b4f212eced6d5295abbc43574      1663\n",
      "b9e8a0acf65dbed3357ed392b059810b0642545811d0bfb90b1b740b9111810d      1445\n",
      "                                                                     ...  \n",
      "e06b4c72a3845dda0970e7a9f79ae6b6e45c4ec257ad065dceee1febb3102c21         1\n",
      "ce0d142f82e82f1e5e6f4a1e34166a9b74e62891e4e577f4d3b0912bff251804         1\n",
      "6bdb136b6aeb468e98ffbbacc3fa1d42ec32039c8b4742c4121c9a8ec8b14674         1\n",
      "a4fbac07a6b8cfc3a0434115b230aea7d751829bc8567827a6236a49c4c9b254         1\n",
      "0a09a6da33c3153870f31c04e3d94b33f3763491d33e17c1d4890126f73c60c1         1\n",
      "Name: count, Length: 3497, dtype: int64\n",
      "variável:\n",
      "merchant_centroid_id\n",
      "-23.6-46.73     3080\n",
      "-23.6-46.74     3024\n",
      "-23.56-46.65    2451\n",
      "-22.97-43.19    2238\n",
      "-22.98-43.22    1960\n",
      "                ... \n",
      "-23.0-46.52        1\n",
      "-19.87-43.95       1\n",
      "-11.0-37.09        1\n",
      "-22.72-43.46       1\n",
      "-15.84-47.97       1\n",
      "Name: count, Length: 5544, dtype: int64\n",
      "variável:\n",
      "merchant_state\n",
      "SP    129955\n",
      "RJ     74742\n",
      "PR     14216\n",
      "MG      1434\n",
      "DF       821\n",
      "RS       811\n",
      "CE       796\n",
      "SC       485\n",
      "PA       334\n",
      "GO       304\n",
      "ES       300\n",
      "BA       269\n",
      "PE       240\n",
      "MS       222\n",
      "AM       195\n",
      "SE       186\n",
      "MT       163\n",
      "PB       162\n",
      "PI       160\n",
      "AL       136\n",
      "RN       118\n",
      "RR        81\n",
      "MA        69\n",
      "RO        59\n",
      "AP         6\n",
      "TO         3\n",
      "AC         2\n",
      "Name: count, dtype: int64\n",
      "variável:\n",
      "merchant_city\n",
      "SAO PAULO                113613\n",
      "RIO DE JANEIRO            70675\n",
      "CURITIBA                  12932\n",
      "GUARULHOS                  1821\n",
      "OSASCO                     1804\n",
      "                          ...  \n",
      "ALFENAS                       1\n",
      "PINHEIRO                      1\n",
      "PORTO BELO                    1\n",
      "FORMOSA                       1\n",
      "SANTA BARBARA D'OESTE         1\n",
      "Name: count, Length: 327, dtype: int64\n",
      "variável:\n",
      "merchant_district\n",
      "Centro                 3371\n",
      "Jardim Monte Kemel     3297\n",
      "COPACABANA             3204\n",
      "CENTRO                 3061\n",
      "Bela Vista             3015\n",
      "                       ... \n",
      "VILA FRANCA               1\n",
      "JARDIM OLIVEIRAS          1\n",
      "SHCN                      1\n",
      "jardim colorado           1\n",
      "Jardim Passargada I       1\n",
      "Name: count, Length: 7558, dtype: int64\n",
      "variável:\n",
      "confirmed_date\n",
      "2020-02-28T11:46:11.235Z    2\n",
      "2020-02-25T19:30:04.443Z    2\n",
      "2020-02-07T11:25:27.325Z    2\n",
      "2020-05-29T20:03:18.793Z    2\n",
      "2020-06-24T21:11:13.438Z    2\n",
      "                           ..\n",
      "2020-04-06T17:54:51.837Z    1\n",
      "2020-03-13T12:52:54.067Z    1\n",
      "2020-03-03T19:14:45.576Z    1\n",
      "2020-04-19T12:42:40.061Z    1\n",
      "2020-06-21T16:49:12.157Z    1\n",
      "Name: count, Length: 226232, dtype: int64\n",
      "variável:\n",
      "concluded_date\n",
      "2020-02-05T14:30:46.629Z    3\n",
      "2020-02-05T14:30:46.389Z    3\n",
      "2020-02-05T15:30:48.808Z    3\n",
      "2020-02-05T15:31:17.460Z    3\n",
      "2020-03-02T16:12:03.466Z    3\n",
      "                           ..\n",
      "2020-09-25T12:29:36.826Z    1\n",
      "2020-03-02T23:53:52.268Z    1\n",
      "2020-02-15T14:53:52.764Z    1\n",
      "2020-07-22T13:24:04.603Z    1\n",
      "2020-06-21T20:49:12.262Z    1\n",
      "Name: count, Length: 226187, dtype: int64\n",
      "variável:\n",
      "account_id\n",
      "d300ac6b-3fd5-4f24-b80e-a2a0066f925c    834\n",
      "32a0375f-e741-45b8-a0ed-8f9030b6598b    678\n",
      "4091f823-a717-4bbc-a015-a0ddaf6f8235    601\n",
      "6415a86b-cb49-4586-880c-d0ba667d3a3d    599\n",
      "01977262-3113-4279-8c12-688cf17de335    562\n",
      "                                       ... \n",
      "7ef15356-f4aa-4d22-818b-a7491e18ffb0      1\n",
      "0e45ab44-43cf-43a7-86f5-c8516dbd6a7e      1\n",
      "0fcc361c-3e80-4e69-930c-54a1d5b2f508      1\n",
      "251d9ff8-47d4-4f77-9f0b-4723819662fc      1\n",
      "4937ef9f-ce1c-41e3-85ba-deb77a185124      1\n",
      "Name: count, Length: 13964, dtype: int64\n",
      "variável:\n",
      "review_created_at\n",
      "2020-09-07T15:53:40.389Z    2\n",
      "2020-02-28T19:06:31.861Z    1\n",
      "2020-05-22T17:08:40.380Z    1\n",
      "2020-09-13T17:04:08.331Z    1\n",
      "2020-02-24T15:23:08.554Z    1\n",
      "                           ..\n",
      "2020-08-31T00:40:50.060Z    1\n",
      "2020-03-26T23:21:58.843Z    1\n",
      "2020-09-27T19:40:28.284Z    1\n",
      "2020-03-10T14:30:13.436Z    1\n",
      "2020-06-21T22:21:54.666Z    1\n",
      "Name: count, Length: 226268, dtype: int64\n"
     ]
    }
   ],
   "source": [
    "for column in orders_df.columns:\n",
    "    if orders_df[column].dtype == 'object':\n",
    "        print(\"variável:\")\n",
    "        print(orders_df[column].value_counts())"
   ]
  },
  {
   "cell_type": "markdown",
   "metadata": {},
   "source": [
    "O código abaixo apresenta uma amostra do dataset:"
   ]
  },
  {
   "cell_type": "code",
   "execution_count": 17,
   "metadata": {},
   "outputs": [
    {
     "data": {
      "text/html": [
       "<div>\n",
       "<style scoped>\n",
       "    .dataframe tbody tr th:only-of-type {\n",
       "        vertical-align: middle;\n",
       "    }\n",
       "\n",
       "    .dataframe tbody tr th {\n",
       "        vertical-align: top;\n",
       "    }\n",
       "\n",
       "    .dataframe thead th {\n",
       "        text-align: right;\n",
       "    }\n",
       "</style>\n",
       "<table border=\"1\" class=\"dataframe\">\n",
       "  <thead>\n",
       "    <tr style=\"text-align: right;\">\n",
       "      <th></th>\n",
       "      <th>order_id</th>\n",
       "      <th>order_shift</th>\n",
       "      <th>order_origin</th>\n",
       "      <th>delivery_fee</th>\n",
       "      <th>scheduled</th>\n",
       "      <th>total_amount</th>\n",
       "      <th>subsidy_amount</th>\n",
       "      <th>device_platform</th>\n",
       "      <th>device_type</th>\n",
       "      <th>device_app_version</th>\n",
       "      <th>...</th>\n",
       "      <th>merchant_long</th>\n",
       "      <th>merchant_lat</th>\n",
       "      <th>has_free_delivery</th>\n",
       "      <th>confirmed_date</th>\n",
       "      <th>concluded_date</th>\n",
       "      <th>lag_last_order</th>\n",
       "      <th>account_id</th>\n",
       "      <th>review_score</th>\n",
       "      <th>nps_score</th>\n",
       "      <th>review_created_at</th>\n",
       "    </tr>\n",
       "  </thead>\n",
       "  <tbody>\n",
       "    <tr>\n",
       "      <th>0</th>\n",
       "      <td>000f4c94-ec38-488b-ad98-9bf3ea19d517</td>\n",
       "      <td>weekday lunch</td>\n",
       "      <td>RESTAURANT</td>\n",
       "      <td>875.0</td>\n",
       "      <td>False</td>\n",
       "      <td>5375.0</td>\n",
       "      <td>0.0</td>\n",
       "      <td>ANDROID</td>\n",
       "      <td>MOBILE</td>\n",
       "      <td>9.39.1</td>\n",
       "      <td>...</td>\n",
       "      <td>-43.38</td>\n",
       "      <td>-22.83</td>\n",
       "      <td>False</td>\n",
       "      <td>2020-02-28T14:07:25.953Z</td>\n",
       "      <td>2020-02-28T16:06:03.701Z</td>\n",
       "      <td>1.0</td>\n",
       "      <td>70a2a5a3-8071-47fc-a623-e9995045314e</td>\n",
       "      <td>5.0</td>\n",
       "      <td>8</td>\n",
       "      <td>2020-02-28T19:06:31.861Z</td>\n",
       "    </tr>\n",
       "    <tr>\n",
       "      <th>1</th>\n",
       "      <td>0018ed39-3ae0-4047-9c9e-fd9a2027e645</td>\n",
       "      <td>weekend dinner</td>\n",
       "      <td>RESTAURANT</td>\n",
       "      <td>0.0</td>\n",
       "      <td>False</td>\n",
       "      <td>2987.5</td>\n",
       "      <td>1250.0</td>\n",
       "      <td>IOS</td>\n",
       "      <td>MOBILE</td>\n",
       "      <td>9.63.0</td>\n",
       "      <td>...</td>\n",
       "      <td>-43.22</td>\n",
       "      <td>-22.93</td>\n",
       "      <td>True</td>\n",
       "      <td>2020-08-21T21:12:23.295Z</td>\n",
       "      <td>2020-08-21T21:59:18.732Z</td>\n",
       "      <td>1.0</td>\n",
       "      <td>407bab9f-f485-48cd-abea-66e6283058c3</td>\n",
       "      <td>5.0</td>\n",
       "      <td>8</td>\n",
       "      <td>2020-09-04T00:14:14.365Z</td>\n",
       "    </tr>\n",
       "  </tbody>\n",
       "</table>\n",
       "<p>2 rows × 34 columns</p>\n",
       "</div>"
      ],
      "text/plain": [
       "                               order_id     order_shift order_origin  \\\n",
       "0  000f4c94-ec38-488b-ad98-9bf3ea19d517   weekday lunch   RESTAURANT   \n",
       "1  0018ed39-3ae0-4047-9c9e-fd9a2027e645  weekend dinner   RESTAURANT   \n",
       "\n",
       "   delivery_fee  scheduled  total_amount  subsidy_amount device_platform  \\\n",
       "0         875.0      False        5375.0             0.0         ANDROID   \n",
       "1           0.0      False        2987.5          1250.0             IOS   \n",
       "\n",
       "  device_type device_app_version  ... merchant_long merchant_lat  \\\n",
       "0      MOBILE             9.39.1  ...        -43.38       -22.83   \n",
       "1      MOBILE             9.63.0  ...        -43.22       -22.93   \n",
       "\n",
       "  has_free_delivery            confirmed_date            concluded_date  \\\n",
       "0             False  2020-02-28T14:07:25.953Z  2020-02-28T16:06:03.701Z   \n",
       "1              True  2020-08-21T21:12:23.295Z  2020-08-21T21:59:18.732Z   \n",
       "\n",
       "   lag_last_order                            account_id review_score  \\\n",
       "0             1.0  70a2a5a3-8071-47fc-a623-e9995045314e          5.0   \n",
       "1             1.0  407bab9f-f485-48cd-abea-66e6283058c3          5.0   \n",
       "\n",
       "  nps_score         review_created_at  \n",
       "0         8  2020-02-28T19:06:31.861Z  \n",
       "1         8  2020-09-04T00:14:14.365Z  \n",
       "\n",
       "[2 rows x 34 columns]"
      ]
     },
     "execution_count": 17,
     "metadata": {},
     "output_type": "execute_result"
    }
   ],
   "source": [
    "orders_df.head(2)"
   ]
  },
  {
   "cell_type": "markdown",
   "metadata": {},
   "source": [
    "A verificação de possíveis valores faltantes no dataset é feita usando a biblioteca \"missingno\" para um resultado visual  \n",
    "e o método \"isna\" do Pandas para os valores em porcentagem.  \n",
    "Esse dataset possui 4 variáveis com valores faltantes, sendo a variável \"device_app_version\" a que apresentou o maior percentual, com 1.96%. "
   ]
  },
  {
   "cell_type": "code",
   "execution_count": 18,
   "metadata": {},
   "outputs": [
    {
     "data": {
      "text/plain": [
       "<Axes: >"
      ]
     },
     "execution_count": 18,
     "metadata": {},
     "output_type": "execute_result"
    },
    {
     "data": {
      "image/png": "[encoded data removed]",
      "text/plain": [
       "<Figure size 2500x1000 with 2 Axes>"
      ]
     },
     "metadata": {},
     "output_type": "display_data"
    }
   ],
   "source": [
    "msno.matrix(orders_df)"
   ]
  },
  {
   "cell_type": "code",
   "execution_count": 19,
   "metadata": {},
   "outputs": [
    {
     "data": {
      "text/plain": [
       "device_app_version      1.960056\n",
       "lag_last_order          0.081319\n",
       "confirmed_date          0.006187\n",
       "concluded_date          0.001768\n",
       "order_id                0.000000\n",
       "merchant_long           0.000000\n",
       "merchant_state          0.000000\n",
       "merchant_city           0.000000\n",
       "merchant_district       0.000000\n",
       "merchant_zipcode        0.000000\n",
       "has_free_delivery       0.000000\n",
       "merchant_lat            0.000000\n",
       "group_id                0.000000\n",
       "account_id              0.000000\n",
       "review_score            0.000000\n",
       "nps_score               0.000000\n",
       "merchant_centroid_id    0.000000\n",
       "dish_type               0.000000\n",
       "order_shift             0.000000\n",
       "restaurant_id           0.000000\n",
       "customer_lat            0.000000\n",
       "customer_long           0.000000\n",
       "district                0.000000\n",
       "city                    0.000000\n",
       "state_label             0.000000\n",
       "centroid_id             0.000000\n",
       "device_type             0.000000\n",
       "device_platform         0.000000\n",
       "subsidy_amount          0.000000\n",
       "total_amount            0.000000\n",
       "scheduled               0.000000\n",
       "delivery_fee            0.000000\n",
       "order_origin            0.000000\n",
       "review_created_at       0.000000\n",
       "dtype: float64"
      ]
     },
     "execution_count": 19,
     "metadata": {},
     "output_type": "execute_result"
    }
   ],
   "source": [
    "orders_df.isna().mean().sort_values(ascending=False)*100"
   ]
  },
  {
   "cell_type": "markdown",
   "metadata": {},
   "source": [
    "#### Explorando as variáveis numéricas\n",
    "\n",
    "Para ser possível explorar as variáveis númericas, essas foram separadas dos outros tipos de variáveis do banco de dados.\n",
    "O código abaixo apresenta um resumo das variáveis numéricas do banco de dados. A variável \"merchant_zipcode\" foi excluída do resumo  \n",
    "pois apesar de ser numérica, os valores são números de CEP.  \n",
    "As variáveis \"review_score\" e \"nps_score\" serão apresentadas apenas com seus valores de média e desvio padrão pois trata-se de score.\n",
    "Nota-se que as variáveis numéricas não estão na mesma escala, logo os dados precisarão ser normalizados em etapas posteriores."
   ]
  },
  {
   "cell_type": "code",
   "execution_count": 20,
   "metadata": {},
   "outputs": [
    {
     "name": "stdout",
     "output_type": "stream",
     "text": [
      "['delivery_fee', 'total_amount', 'subsidy_amount', 'customer_long', 'customer_lat', 'merchant_zipcode', 'merchant_long', 'merchant_lat', 'lag_last_order', 'review_score', 'nps_score']\n"
     ]
    }
   ],
   "source": [
    "numeric_cols = []\n",
    "\n",
    "for column in orders_df.columns:\n",
    "    if orders_df[column].dtype == 'float64' or orders_df[column].dtype == 'int64':\n",
    "        numeric_cols.append(column)\n",
    "\n",
    "print(numeric_cols)"
   ]
  },
  {
   "cell_type": "code",
   "execution_count": 21,
   "metadata": {},
   "outputs": [
    {
     "data": {
      "text/html": [
       "<div>\n",
       "<style scoped>\n",
       "    .dataframe tbody tr th:only-of-type {\n",
       "        vertical-align: middle;\n",
       "    }\n",
       "\n",
       "    .dataframe tbody tr th {\n",
       "        vertical-align: top;\n",
       "    }\n",
       "\n",
       "    .dataframe thead th {\n",
       "        text-align: right;\n",
       "    }\n",
       "</style>\n",
       "<table border=\"1\" class=\"dataframe\">\n",
       "  <thead>\n",
       "    <tr style=\"text-align: right;\">\n",
       "      <th></th>\n",
       "      <th>count</th>\n",
       "      <th>mean</th>\n",
       "      <th>std</th>\n",
       "      <th>min</th>\n",
       "      <th>25%</th>\n",
       "      <th>50%</th>\n",
       "      <th>75%</th>\n",
       "      <th>99%</th>\n",
       "      <th>max</th>\n",
       "    </tr>\n",
       "  </thead>\n",
       "  <tbody>\n",
       "    <tr>\n",
       "      <th>delivery_fee</th>\n",
       "      <td>226269.0</td>\n",
       "      <td>405.418965</td>\n",
       "      <td>504.026635</td>\n",
       "      <td>-1247.50</td>\n",
       "      <td>0.00</td>\n",
       "      <td>0.00</td>\n",
       "      <td>748.75</td>\n",
       "      <td>1748.75</td>\n",
       "      <td>5000.00</td>\n",
       "    </tr>\n",
       "    <tr>\n",
       "      <th>total_amount</th>\n",
       "      <td>226269.0</td>\n",
       "      <td>6017.809350</td>\n",
       "      <td>5180.780032</td>\n",
       "      <td>0.00</td>\n",
       "      <td>2768.75</td>\n",
       "      <td>4500.00</td>\n",
       "      <td>7523.75</td>\n",
       "      <td>25236.65</td>\n",
       "      <td>174873.75</td>\n",
       "    </tr>\n",
       "    <tr>\n",
       "      <th>subsidy_amount</th>\n",
       "      <td>226269.0</td>\n",
       "      <td>343.687580</td>\n",
       "      <td>677.852181</td>\n",
       "      <td>-2.50</td>\n",
       "      <td>0.00</td>\n",
       "      <td>0.00</td>\n",
       "      <td>623.75</td>\n",
       "      <td>2987.50</td>\n",
       "      <td>19611.25</td>\n",
       "    </tr>\n",
       "    <tr>\n",
       "      <th>customer_long</th>\n",
       "      <td>226269.0</td>\n",
       "      <td>-45.693016</td>\n",
       "      <td>2.184032</td>\n",
       "      <td>-67.87</td>\n",
       "      <td>-46.71</td>\n",
       "      <td>-46.62</td>\n",
       "      <td>-43.35</td>\n",
       "      <td>-41.31</td>\n",
       "      <td>-34.82</td>\n",
       "    </tr>\n",
       "    <tr>\n",
       "      <th>customer_lat</th>\n",
       "      <td>226269.0</td>\n",
       "      <td>-23.192878</td>\n",
       "      <td>2.206372</td>\n",
       "      <td>-31.78</td>\n",
       "      <td>-23.60</td>\n",
       "      <td>-23.53</td>\n",
       "      <td>-22.94</td>\n",
       "      <td>-9.65</td>\n",
       "      <td>2.85</td>\n",
       "    </tr>\n",
       "    <tr>\n",
       "      <th>merchant_long</th>\n",
       "      <td>226269.0</td>\n",
       "      <td>-45.692937</td>\n",
       "      <td>2.194552</td>\n",
       "      <td>-67.84</td>\n",
       "      <td>-46.70</td>\n",
       "      <td>-46.62</td>\n",
       "      <td>-43.35</td>\n",
       "      <td>-41.32</td>\n",
       "      <td>46.79</td>\n",
       "    </tr>\n",
       "    <tr>\n",
       "      <th>merchant_lat</th>\n",
       "      <td>226269.0</td>\n",
       "      <td>-23.193716</td>\n",
       "      <td>2.206171</td>\n",
       "      <td>-31.78</td>\n",
       "      <td>-23.60</td>\n",
       "      <td>-23.54</td>\n",
       "      <td>-22.95</td>\n",
       "      <td>-9.65</td>\n",
       "      <td>2.85</td>\n",
       "    </tr>\n",
       "    <tr>\n",
       "      <th>lag_last_order</th>\n",
       "      <td>226085.0</td>\n",
       "      <td>2.505275</td>\n",
       "      <td>11.985040</td>\n",
       "      <td>0.00</td>\n",
       "      <td>0.00</td>\n",
       "      <td>1.00</td>\n",
       "      <td>2.00</td>\n",
       "      <td>27.00</td>\n",
       "      <td>1429.00</td>\n",
       "    </tr>\n",
       "  </tbody>\n",
       "</table>\n",
       "</div>"
      ],
      "text/plain": [
       "                   count         mean          std      min      25%      50%  \\\n",
       "delivery_fee    226269.0   405.418965   504.026635 -1247.50     0.00     0.00   \n",
       "total_amount    226269.0  6017.809350  5180.780032     0.00  2768.75  4500.00   \n",
       "subsidy_amount  226269.0   343.687580   677.852181    -2.50     0.00     0.00   \n",
       "customer_long   226269.0   -45.693016     2.184032   -67.87   -46.71   -46.62   \n",
       "customer_lat    226269.0   -23.192878     2.206372   -31.78   -23.60   -23.53   \n",
       "merchant_long   226269.0   -45.692937     2.194552   -67.84   -46.70   -46.62   \n",
       "merchant_lat    226269.0   -23.193716     2.206171   -31.78   -23.60   -23.54   \n",
       "lag_last_order  226085.0     2.505275    11.985040     0.00     0.00     1.00   \n",
       "\n",
       "                    75%       99%        max  \n",
       "delivery_fee     748.75   1748.75    5000.00  \n",
       "total_amount    7523.75  25236.65  174873.75  \n",
       "subsidy_amount   623.75   2987.50   19611.25  \n",
       "customer_long    -43.35    -41.31     -34.82  \n",
       "customer_lat     -22.94     -9.65       2.85  \n",
       "merchant_long    -43.35    -41.32      46.79  \n",
       "merchant_lat     -22.95     -9.65       2.85  \n",
       "lag_last_order     2.00     27.00    1429.00  "
      ]
     },
     "execution_count": 21,
     "metadata": {},
     "output_type": "execute_result"
    }
   ],
   "source": [
    "orders_df[numeric_cols].drop(['merchant_zipcode', 'review_score', 'nps_score'], axis=1).describe(percentiles=[0.25, 0.50, 0.75, 0.99]).T"
   ]
  },
  {
   "cell_type": "markdown",
   "metadata": {},
   "source": [
    "Na tabela de percentis apresentada acima nota-se valores negativos para a variável 'delivery_fee' que corresponde a taxa de entrega. Ao analisar mais profundamente, verifica-se que apenas um dos dados possui valor negativo, logo, toma-se a decisão de excluir esse dado já que não é aceitável valor negativo para taxa de entrega."
   ]
  },
  {
   "cell_type": "code",
   "execution_count": 22,
   "metadata": {},
   "outputs": [
    {
     "data": {
      "text/plain": [
       "delivery_fee\n",
       "-1247.5    1\n",
       "Name: count, dtype: int64"
      ]
     },
     "execution_count": 22,
     "metadata": {},
     "output_type": "execute_result"
    }
   ],
   "source": [
    "orders_df[orders_df['delivery_fee'] < 0]['delivery_fee'].value_counts()"
   ]
  },
  {
   "cell_type": "code",
   "execution_count": 23,
   "metadata": {},
   "outputs": [],
   "source": [
    "orders_df = orders_df.drop(orders_df.index[orders_df['delivery_fee'] < 0])"
   ]
  },
  {
   "cell_type": "code",
   "execution_count": 24,
   "metadata": {},
   "outputs": [
    {
     "data": {
      "text/plain": [
       "subsidy_amount\n",
       "-1.25    5532\n",
       "-2.50       5\n",
       "Name: count, dtype: int64"
      ]
     },
     "execution_count": 24,
     "metadata": {},
     "output_type": "execute_result"
    }
   ],
   "source": [
    "orders_df[orders_df['subsidy_amount'] < 0]['subsidy_amount'].value_counts()"
   ]
  },
  {
   "cell_type": "markdown",
   "metadata": {},
   "source": [
    "Já a variável \"subsidy_amount\" contém 2.45% de dados com valores negativos, como não faz sentido valores de desconto negativos para essa variável  \n",
    "e a porcentagem é baixa, tomou-se a decisão de excluir esses dados do banco de dados."
   ]
  },
  {
   "cell_type": "code",
   "execution_count": 25,
   "metadata": {},
   "outputs": [
    {
     "name": "stdout",
     "output_type": "stream",
     "text": [
      "o número de dados com valores negativos da variável 'subsidy_amount' corresponde a 2.45% do valor total de dados.\n"
     ]
    }
   ],
   "source": [
    "subsidy_neg_percentage = (orders_df[orders_df['subsidy_amount'] < 0]['subsidy_amount'].value_counts().sum() / orders_df.shape[0]) * 100\n",
    "print(\"o número de dados com valores negativos da variável 'subsidy_amount' corresponde a {:.2f}% do valor total de dados.\"\n",
    "      .format(subsidy_neg_percentage))"
   ]
  },
  {
   "cell_type": "code",
   "execution_count": 26,
   "metadata": {},
   "outputs": [],
   "source": [
    "orders_df = orders_df.drop(orders_df.index[orders_df['subsidy_amount'] < 0])"
   ]
  },
  {
   "cell_type": "code",
   "execution_count": 27,
   "metadata": {},
   "outputs": [
    {
     "name": "stdout",
     "output_type": "stream",
     "text": [
      "A média da variável 'review_score' é 4.67 e seu desvio padrão é 0.93.\n"
     ]
    }
   ],
   "source": [
    "review_score_mean = orders_df['review_score'].mean()\n",
    "review_score_std = orders_df['review_score'].std()\n",
    "print (\"A média da variável 'review_score' é {:.2f} e seu desvio padrão é {:.2f}.\".format(review_score_mean, review_score_std))"
   ]
  },
  {
   "cell_type": "code",
   "execution_count": 28,
   "metadata": {},
   "outputs": [
    {
     "name": "stdout",
     "output_type": "stream",
     "text": [
      "A média da variável 'nps_score' é 9.10 e seu desvio padrão é 1.90.\n"
     ]
    }
   ],
   "source": [
    "nps_score_mean = orders_df['nps_score'].mean()\n",
    "nps_score_std = orders_df['nps_score'].std()\n",
    "print (\"A média da variável 'nps_score' é {:.2f} e seu desvio padrão é {:.2f}.\".format(nps_score_mean, nps_score_std))"
   ]
  },
  {
   "cell_type": "markdown",
   "metadata": {},
   "source": [
    "Anteriormente verificou-se que esse banco de dados possui quatro variáveis com valores faltantes, sendo a maior delas com 1,96%. Como é um valor pequeno em relação ao todo, tomou-se a decisão de remover esses dados."
   ]
  },
  {
   "cell_type": "code",
   "execution_count": 29,
   "metadata": {},
   "outputs": [],
   "source": [
    "orders_df_mis = orders_df.dropna()"
   ]
  },
  {
   "cell_type": "code",
   "execution_count": 30,
   "metadata": {},
   "outputs": [
    {
     "data": {
      "text/plain": [
       "order_id                0.0\n",
       "order_shift             0.0\n",
       "order_origin            0.0\n",
       "delivery_fee            0.0\n",
       "scheduled               0.0\n",
       "total_amount            0.0\n",
       "subsidy_amount          0.0\n",
       "device_platform         0.0\n",
       "device_type             0.0\n",
       "device_app_version      0.0\n",
       "centroid_id             0.0\n",
       "state_label             0.0\n",
       "city                    0.0\n",
       "district                0.0\n",
       "customer_long           0.0\n",
       "customer_lat            0.0\n",
       "restaurant_id           0.0\n",
       "dish_type               0.0\n",
       "group_id                0.0\n",
       "merchant_centroid_id    0.0\n",
       "merchant_state          0.0\n",
       "merchant_city           0.0\n",
       "merchant_district       0.0\n",
       "merchant_zipcode        0.0\n",
       "merchant_long           0.0\n",
       "merchant_lat            0.0\n",
       "has_free_delivery       0.0\n",
       "confirmed_date          0.0\n",
       "concluded_date          0.0\n",
       "lag_last_order          0.0\n",
       "account_id              0.0\n",
       "review_score            0.0\n",
       "nps_score               0.0\n",
       "review_created_at       0.0\n",
       "dtype: float64"
      ]
     },
     "execution_count": 30,
     "metadata": {},
     "output_type": "execute_result"
    }
   ],
   "source": [
    "orders_df_mis.isna().mean()*100"
   ]
  },
  {
   "cell_type": "markdown",
   "metadata": {},
   "source": [
    "#### Explorando as variáveis categóricas\n",
    "\n",
    "Para avaliar as variáveis categóricas do banco de dados \"orders\", esas serão separadas das variáveis numéricas."
   ]
  },
  {
   "cell_type": "code",
   "execution_count": 31,
   "metadata": {},
   "outputs": [
    {
     "data": {
      "text/plain": [
       "['order_shift',\n",
       " 'order_origin',\n",
       " 'state_label',\n",
       " 'concluded_date',\n",
       " 'device_app_version',\n",
       " 'merchant_state',\n",
       " 'has_free_delivery',\n",
       " 'merchant_city',\n",
       " 'city',\n",
       " 'account_id',\n",
       " 'order_id',\n",
       " 'merchant_centroid_id',\n",
       " 'device_platform',\n",
       " 'group_id',\n",
       " 'dish_type',\n",
       " 'district',\n",
       " 'merchant_district',\n",
       " 'restaurant_id',\n",
       " 'scheduled',\n",
       " 'device_type',\n",
       " 'confirmed_date',\n",
       " 'review_created_at',\n",
       " 'centroid_id']"
      ]
     },
     "execution_count": 31,
     "metadata": {},
     "output_type": "execute_result"
    }
   ],
   "source": [
    "categoric_cols = list(set(orders_df_mis.columns) - set(numeric_cols))\n",
    "categoric_cols"
   ]
  },
  {
   "cell_type": "markdown",
   "metadata": {},
   "source": [
    "Para realizar uma análise descritiva das variáveis categóricas, foi utilizado o método \"describe\".  \n",
    "Ao analisar os resultados, é possível ver que a cidade de São Paulo é onde teve o maior número de pedidos, com 50,54%, correspondendo a 109.321 pedidos do total de 216.316. Também verifica-se que o número de pedidos agendados é muito baixo, sendo 2.56% dos pedidos realizados.  \n",
    "A categoria de comida mais pedida é Lanches e a origem dos pedidos é de restaurantes. Nota-se também a preferência por lugares com entrega  \n",
    "grátis, sendo 53.94% dos pedidos.\n",
    "A respeito da plataforma utilizada para fazer os pedidos, a mais comum é celulares do tipo android."
   ]
  },
  {
   "cell_type": "code",
   "execution_count": 32,
   "metadata": {},
   "outputs": [
    {
     "data": {
      "text/html": [
       "<div>\n",
       "<style scoped>\n",
       "    .dataframe tbody tr th:only-of-type {\n",
       "        vertical-align: middle;\n",
       "    }\n",
       "\n",
       "    .dataframe tbody tr th {\n",
       "        vertical-align: top;\n",
       "    }\n",
       "\n",
       "    .dataframe thead th {\n",
       "        text-align: right;\n",
       "    }\n",
       "</style>\n",
       "<table border=\"1\" class=\"dataframe\">\n",
       "  <thead>\n",
       "    <tr style=\"text-align: right;\">\n",
       "      <th></th>\n",
       "      <th>order_shift</th>\n",
       "      <th>order_origin</th>\n",
       "      <th>state_label</th>\n",
       "      <th>concluded_date</th>\n",
       "      <th>device_app_version</th>\n",
       "      <th>merchant_state</th>\n",
       "      <th>has_free_delivery</th>\n",
       "      <th>merchant_city</th>\n",
       "      <th>city</th>\n",
       "      <th>account_id</th>\n",
       "      <th>...</th>\n",
       "      <th>group_id</th>\n",
       "      <th>dish_type</th>\n",
       "      <th>district</th>\n",
       "      <th>merchant_district</th>\n",
       "      <th>restaurant_id</th>\n",
       "      <th>scheduled</th>\n",
       "      <th>device_type</th>\n",
       "      <th>confirmed_date</th>\n",
       "      <th>review_created_at</th>\n",
       "      <th>centroid_id</th>\n",
       "    </tr>\n",
       "  </thead>\n",
       "  <tbody>\n",
       "    <tr>\n",
       "      <th>count</th>\n",
       "      <td>216316</td>\n",
       "      <td>216316</td>\n",
       "      <td>216316</td>\n",
       "      <td>216316</td>\n",
       "      <td>216316</td>\n",
       "      <td>216316</td>\n",
       "      <td>216316</td>\n",
       "      <td>216316</td>\n",
       "      <td>216316</td>\n",
       "      <td>216316</td>\n",
       "      <td>...</td>\n",
       "      <td>216316</td>\n",
       "      <td>216316</td>\n",
       "      <td>216316</td>\n",
       "      <td>216316</td>\n",
       "      <td>216316</td>\n",
       "      <td>216316</td>\n",
       "      <td>216316</td>\n",
       "      <td>216316</td>\n",
       "      <td>216316</td>\n",
       "      <td>216316</td>\n",
       "    </tr>\n",
       "    <tr>\n",
       "      <th>unique</th>\n",
       "      <td>10</td>\n",
       "      <td>3</td>\n",
       "      <td>27</td>\n",
       "      <td>216258</td>\n",
       "      <td>211</td>\n",
       "      <td>27</td>\n",
       "      <td>2</td>\n",
       "      <td>325</td>\n",
       "      <td>314</td>\n",
       "      <td>13772</td>\n",
       "      <td>...</td>\n",
       "      <td>3479</td>\n",
       "      <td>61</td>\n",
       "      <td>4393</td>\n",
       "      <td>7504</td>\n",
       "      <td>37610</td>\n",
       "      <td>2</td>\n",
       "      <td>2</td>\n",
       "      <td>216296</td>\n",
       "      <td>216316</td>\n",
       "      <td>4108</td>\n",
       "    </tr>\n",
       "    <tr>\n",
       "      <th>top</th>\n",
       "      <td>weekday lunch</td>\n",
       "      <td>RESTAURANT</td>\n",
       "      <td>SP</td>\n",
       "      <td>2020-02-05T15:31:17.460Z</td>\n",
       "      <td>9.37.1</td>\n",
       "      <td>SP</td>\n",
       "      <td>True</td>\n",
       "      <td>SAO PAULO</td>\n",
       "      <td>SAO PAULO</td>\n",
       "      <td>d300ac6b-3fd5-4f24-b80e-a2a0066f925c</td>\n",
       "      <td>...</td>\n",
       "      <td>ae3c8b8d99a39542f78af83dbbb42c81cd94199ec1b5f6...</td>\n",
       "      <td>Lanches</td>\n",
       "      <td>Vila Mariana</td>\n",
       "      <td>Centro</td>\n",
       "      <td>cc6f3a7a83faf0c0ce4e7ec414b1b1b29aedfce9143a67...</td>\n",
       "      <td>False</td>\n",
       "      <td>MOBILE</td>\n",
       "      <td>2020-08-05T13:19:04.707Z</td>\n",
       "      <td>2020-02-28T19:06:31.861Z</td>\n",
       "      <td>-23.59-46.75</td>\n",
       "    </tr>\n",
       "    <tr>\n",
       "      <th>freq</th>\n",
       "      <td>55721</td>\n",
       "      <td>209989</td>\n",
       "      <td>123338</td>\n",
       "      <td>3</td>\n",
       "      <td>8865</td>\n",
       "      <td>123350</td>\n",
       "      <td>116680</td>\n",
       "      <td>107754</td>\n",
       "      <td>109321</td>\n",
       "      <td>611</td>\n",
       "      <td>...</td>\n",
       "      <td>139873</td>\n",
       "      <td>42731</td>\n",
       "      <td>3676</td>\n",
       "      <td>3305</td>\n",
       "      <td>391</td>\n",
       "      <td>210778</td>\n",
       "      <td>197928</td>\n",
       "      <td>2</td>\n",
       "      <td>1</td>\n",
       "      <td>2538</td>\n",
       "    </tr>\n",
       "  </tbody>\n",
       "</table>\n",
       "<p>4 rows × 23 columns</p>\n",
       "</div>"
      ],
      "text/plain": [
       "          order_shift order_origin state_label            concluded_date  \\\n",
       "count          216316       216316      216316                    216316   \n",
       "unique             10            3          27                    216258   \n",
       "top     weekday lunch   RESTAURANT          SP  2020-02-05T15:31:17.460Z   \n",
       "freq            55721       209989      123338                         3   \n",
       "\n",
       "       device_app_version merchant_state has_free_delivery merchant_city  \\\n",
       "count              216316         216316            216316        216316   \n",
       "unique                211             27                 2           325   \n",
       "top                9.37.1             SP              True     SAO PAULO   \n",
       "freq                 8865         123350            116680        107754   \n",
       "\n",
       "             city                            account_id  ...  \\\n",
       "count      216316                                216316  ...   \n",
       "unique        314                                 13772  ...   \n",
       "top     SAO PAULO  d300ac6b-3fd5-4f24-b80e-a2a0066f925c  ...   \n",
       "freq       109321                                   611  ...   \n",
       "\n",
       "                                                 group_id dish_type  \\\n",
       "count                                              216316    216316   \n",
       "unique                                               3479        61   \n",
       "top     ae3c8b8d99a39542f78af83dbbb42c81cd94199ec1b5f6...   Lanches   \n",
       "freq                                               139873     42731   \n",
       "\n",
       "            district merchant_district  \\\n",
       "count         216316            216316   \n",
       "unique          4393              7504   \n",
       "top     Vila Mariana            Centro   \n",
       "freq            3676              3305   \n",
       "\n",
       "                                            restaurant_id scheduled  \\\n",
       "count                                              216316    216316   \n",
       "unique                                              37610         2   \n",
       "top     cc6f3a7a83faf0c0ce4e7ec414b1b1b29aedfce9143a67...     False   \n",
       "freq                                                  391    210778   \n",
       "\n",
       "       device_type            confirmed_date         review_created_at  \\\n",
       "count       216316                    216316                    216316   \n",
       "unique           2                    216296                    216316   \n",
       "top         MOBILE  2020-08-05T13:19:04.707Z  2020-02-28T19:06:31.861Z   \n",
       "freq        197928                         2                         1   \n",
       "\n",
       "         centroid_id  \n",
       "count         216316  \n",
       "unique          4108  \n",
       "top     -23.59-46.75  \n",
       "freq            2538  \n",
       "\n",
       "[4 rows x 23 columns]"
      ]
     },
     "execution_count": 32,
     "metadata": {},
     "output_type": "execute_result"
    }
   ],
   "source": [
    "orders_df_mis[categoric_cols].describe()"
   ]
  },
  {
   "cell_type": "code",
   "execution_count": 33,
   "metadata": {},
   "outputs": [
    {
     "name": "stdout",
     "output_type": "stream",
     "text": [
      "A cidade de São Paulo corresponde a 50.54% dos pedidos realizados.\n"
     ]
    }
   ],
   "source": [
    "most_freq_order_city_perc = ( orders_df_mis[orders_df_mis['city'] == 'SAO PAULO'].value_counts().sum() / orders_df_mis.shape[0] ) * 100\n",
    "print(\"A cidade de São Paulo corresponde a {:.2f}% dos pedidos realizados.\".format(most_freq_order_city_perc))"
   ]
  },
  {
   "cell_type": "code",
   "execution_count": 34,
   "metadata": {},
   "outputs": [
    {
     "name": "stdout",
     "output_type": "stream",
     "text": [
      "O percentual de pedidos agendados corresponde a 2.56% dos pedidos realizados.\n"
     ]
    }
   ],
   "source": [
    "scheduled_freq_perc = ( orders_df_mis[orders_df_mis['scheduled'] == True].value_counts().sum() / orders_df_mis.shape[0] ) * 100\n",
    "print(\"O percentual de pedidos agendados corresponde a {:.2f}% dos pedidos realizados.\".format(scheduled_freq_perc))"
   ]
  },
  {
   "cell_type": "code",
   "execution_count": 35,
   "metadata": {},
   "outputs": [
    {
     "name": "stdout",
     "output_type": "stream",
     "text": [
      "O percentual de pedidos com entrega grátis é de 53.94%.\n"
     ]
    }
   ],
   "source": [
    "has_free_delivery_perc = ( orders_df_mis[orders_df_mis['has_free_delivery'] == True].value_counts().sum() / orders_df_mis.shape[0] ) * 100\n",
    "print(\"O percentual de pedidos com entrega grátis é de {:.2f}%.\".format(has_free_delivery_perc))"
   ]
  },
  {
   "cell_type": "markdown",
   "metadata": {},
   "source": [
    "#### Pré-processamento de dados"
   ]
  },
  {
   "cell_type": "markdown",
   "metadata": {},
   "source": [
    "A partir da análise exploratória dos dados e das perguntas que foram definidas no objetivo, definiu-se as seguintes variáveis para realizar a clusterização:\n",
    "\n",
    "* ifood_status  \n",
    "* ifood_status_last_month  \n",
    "* total_order_count  \n",
    "* city   \n",
    "* lag_last_order  \n",
    "* subsidy_amount  \n",
    "* has_free_delivery  \n",
    "* dish_type  \n",
    "* order_origin  \n",
    "* total_amount\n",
    "\n",
    "O banco de dados \"orders_df_mis\" possui 13772 usuários únicos com um total de 216.316 pedidos.  \n",
    "Como existe mais de um pedido por cliente, cada cliente será caracterizado pelos valores mais frequentes nas variáveis categóricas e com a mediana nas variáveis numéricas.\n"
   ]
  },
  {
   "cell_type": "code",
   "execution_count": 36,
   "metadata": {},
   "outputs": [
    {
     "name": "stdout",
     "output_type": "stream",
     "text": [
      "O banco de dados possui 216316 pedidos.\n"
     ]
    }
   ],
   "source": [
    "print(\"O banco de dados possui {} pedidos.\".format(len(orders_df_mis)))"
   ]
  },
  {
   "cell_type": "code",
   "execution_count": 37,
   "metadata": {},
   "outputs": [
    {
     "data": {
      "text/plain": [
       "account_id\n",
       "d300ac6b-3fd5-4f24-b80e-a2a0066f925c    611\n",
       "6415a86b-cb49-4586-880c-d0ba667d3a3d    565\n",
       "4091f823-a717-4bbc-a015-a0ddaf6f8235    558\n",
       "01977262-3113-4279-8c12-688cf17de335    530\n",
       "51722130-363f-42aa-bef0-70e46434eba9    479\n",
       "                                       ... \n",
       "ae72530b-b331-41d0-beff-343795df4cac      1\n",
       "b75346f1-2c7d-41a4-a392-7dada9b93831      1\n",
       "1192897d-1e75-46ef-9fef-2d09e9bc962c      1\n",
       "f6fe2a1a-9453-43fa-961b-41bfb3b16070      1\n",
       "4937ef9f-ce1c-41e3-85ba-deb77a185124      1\n",
       "Name: count, Length: 13772, dtype: int64"
      ]
     },
     "execution_count": 37,
     "metadata": {},
     "output_type": "execute_result"
    }
   ],
   "source": [
    "orders_df_mis['account_id'].value_counts()"
   ]
  },
  {
   "cell_type": "markdown",
   "metadata": {},
   "source": [
    "Os agrupamentos dos dados de cada cliente dos banco de dados \"orders_df_mis\" e \"marketing_df_mis\" são feitos nos código abaixo. É usada uma função lambda para determinar o valor mais frequente das variáveis categóricas."
   ]
  },
  {
   "cell_type": "code",
   "execution_count": 38,
   "metadata": {},
   "outputs": [],
   "source": [
    "order_by_customer_df = orders_df_mis.groupby(by='account_id',as_index=False).agg(\n",
    "                                            order_origin= ('order_origin', lambda num: num.value_counts().index[0]),\n",
    "                                            total_amount= ('total_amount', 'median'),\n",
    "                                            subsidy_amount= ('subsidy_amount', 'median'),\n",
    "                                            city= ('city', lambda num: num.value_counts().index[0]),\n",
    "                                            dish_type= ('dish_type', lambda num: num.value_counts().index[0]),\n",
    "                                            has_free_delivery = ('has_free_delivery', lambda num: num.value_counts().index[0]),\n",
    "                                            lag_last_order= ('lag_last_order', 'median')\n",
    "\n",
    ")\n"
   ]
  },
  {
   "cell_type": "code",
   "execution_count": 39,
   "metadata": {},
   "outputs": [],
   "source": [
    "marketing_by_customer_df = marketing_df_mis.groupby(by='account_id',as_index=False).agg(\n",
    "                                            ifood_status= ('ifood_status', lambda num: num.value_counts().index[0]),\n",
    "                                            ifood_status_last_month= ('ifood_status_last_month', lambda num: num.value_counts().index[0]),\n",
    "                                            total_order_count= ('total_order_count', 'sum')\n",
    "\n",
    ")"
   ]
  },
  {
   "cell_type": "markdown",
   "metadata": {},
   "source": [
    "Com cada cliente caracterizado, será realizada a junção dos banco de dados para realizar a clusterização e apresentada uma amostra do banco de dados final. Após isso, será feita uma cópia desse banco de dados que será usada para a interpretação dos resultados da clusterização."
   ]
  },
  {
   "cell_type": "code",
   "execution_count": 40,
   "metadata": {},
   "outputs": [
    {
     "data": {
      "text/html": [
       "<div>\n",
       "<style scoped>\n",
       "    .dataframe tbody tr th:only-of-type {\n",
       "        vertical-align: middle;\n",
       "    }\n",
       "\n",
       "    .dataframe tbody tr th {\n",
       "        vertical-align: top;\n",
       "    }\n",
       "\n",
       "    .dataframe thead th {\n",
       "        text-align: right;\n",
       "    }\n",
       "</style>\n",
       "<table border=\"1\" class=\"dataframe\">\n",
       "  <thead>\n",
       "    <tr style=\"text-align: right;\">\n",
       "      <th></th>\n",
       "      <th>account_id</th>\n",
       "      <th>order_origin</th>\n",
       "      <th>total_amount</th>\n",
       "      <th>subsidy_amount</th>\n",
       "      <th>city</th>\n",
       "      <th>dish_type</th>\n",
       "      <th>has_free_delivery</th>\n",
       "      <th>lag_last_order</th>\n",
       "      <th>ifood_status</th>\n",
       "      <th>ifood_status_last_month</th>\n",
       "      <th>total_order_count</th>\n",
       "    </tr>\n",
       "  </thead>\n",
       "  <tbody>\n",
       "    <tr>\n",
       "      <th>0</th>\n",
       "      <td>00073adf-7117-44ba-90fe-5879c9581b68</td>\n",
       "      <td>RESTAURANT</td>\n",
       "      <td>2737.500</td>\n",
       "      <td>0.0</td>\n",
       "      <td>CURITIBA</td>\n",
       "      <td>Marmita</td>\n",
       "      <td>True</td>\n",
       "      <td>6.0</td>\n",
       "      <td>Active</td>\n",
       "      <td>Active</td>\n",
       "      <td>270</td>\n",
       "    </tr>\n",
       "    <tr>\n",
       "      <th>1</th>\n",
       "      <td>000b1fec-8616-4014-9581-c5a944911ac3</td>\n",
       "      <td>RESTAURANT</td>\n",
       "      <td>5368.125</td>\n",
       "      <td>0.0</td>\n",
       "      <td>RIO DE JANEIRO</td>\n",
       "      <td>Lanches</td>\n",
       "      <td>False</td>\n",
       "      <td>0.0</td>\n",
       "      <td>Active</td>\n",
       "      <td>Active</td>\n",
       "      <td>791</td>\n",
       "    </tr>\n",
       "    <tr>\n",
       "      <th>2</th>\n",
       "      <td>000db136-b110-4dd6-9d1c-a70ab1ab2d75</td>\n",
       "      <td>RESTAURANT</td>\n",
       "      <td>3875.000</td>\n",
       "      <td>0.0</td>\n",
       "      <td>SAO PAULO</td>\n",
       "      <td>Lanches</td>\n",
       "      <td>True</td>\n",
       "      <td>1.0</td>\n",
       "      <td>Active</td>\n",
       "      <td>Active</td>\n",
       "      <td>573</td>\n",
       "    </tr>\n",
       "  </tbody>\n",
       "</table>\n",
       "</div>"
      ],
      "text/plain": [
       "                             account_id order_origin  total_amount  \\\n",
       "0  00073adf-7117-44ba-90fe-5879c9581b68   RESTAURANT      2737.500   \n",
       "1  000b1fec-8616-4014-9581-c5a944911ac3   RESTAURANT      5368.125   \n",
       "2  000db136-b110-4dd6-9d1c-a70ab1ab2d75   RESTAURANT      3875.000   \n",
       "\n",
       "   subsidy_amount            city dish_type  has_free_delivery  \\\n",
       "0             0.0        CURITIBA   Marmita               True   \n",
       "1             0.0  RIO DE JANEIRO   Lanches              False   \n",
       "2             0.0       SAO PAULO   Lanches               True   \n",
       "\n",
       "   lag_last_order ifood_status ifood_status_last_month  total_order_count  \n",
       "0             6.0       Active                  Active                270  \n",
       "1             0.0       Active                  Active                791  \n",
       "2             1.0       Active                  Active                573  "
      ]
     },
     "execution_count": 40,
     "metadata": {},
     "output_type": "execute_result"
    }
   ],
   "source": [
    "clustering_df = pd.merge(order_by_customer_df, marketing_by_customer_df, how= 'inner', on='account_id')\n",
    "clustering_df.head(3)"
   ]
  },
  {
   "cell_type": "code",
   "execution_count": 41,
   "metadata": {},
   "outputs": [],
   "source": [
    "original_merged_df = clustering_df.copy(deep=True)"
   ]
  },
  {
   "cell_type": "markdown",
   "metadata": {},
   "source": [
    "Como previamente informado, as variáveis numéricas não estão na mesma escala e precisarão passar por um método de ajuste de escala.  \n",
    "Primeiramente, essas serão separadas das variáveis categóricas para depois serem ajustadas.  \n",
    "Na análise exploratória foi visto valores extremos discrepentes e devido a isso o método de ajuste de escala usado será o RobustScaler,  \n",
    "esse método sofre menos influência dos outliers."
   ]
  },
  {
   "cell_type": "code",
   "execution_count": 42,
   "metadata": {},
   "outputs": [],
   "source": [
    "clustering_num_cols = ['total_amount', 'subsidy_amount', 'lag_last_order', 'total_order_count']\n",
    "scaler =  RobustScaler()\n",
    "clustering_df.loc[:,clustering_num_cols] = scaler.fit_transform(clustering_df.loc[:,clustering_num_cols])"
   ]
  },
  {
   "cell_type": "markdown",
   "metadata": {},
   "source": [
    "A variável que corresponde ao ID do usuário não acrescentará nada na análise dos clusters e por isso será removida do banco de dados."
   ]
  },
  {
   "cell_type": "code",
   "execution_count": 43,
   "metadata": {},
   "outputs": [],
   "source": [
    "clustering_df = clustering_df.drop('account_id', axis=1)"
   ]
  },
  {
   "cell_type": "markdown",
   "metadata": {},
   "source": [
    "#### Implementação e análise do modelo\n",
    "\n",
    "Os tipos das variáveis escolhidas para caracterizar os clientes são numéricas e categóricas e devido a isso o algorítmo escolhido será o K-prototypes, pois este tem uma boa performance trabalhando com ambos os tipos. Este tipo de algorítmo tem como um de seus parâmetros iniciais o número de clusters com o qual se deseja trabalhar. Para selecionar o número de clusters, será usada a abordagem do método de cotovelo. Com essa abordagem, é possível identificar quando o número de grupos explica a maioria da variância nos dados. A identificação é feita no ponto onde acontece a transição entre uma variância alta para uma estabilização desse parâmetro.  \n",
    "\n",
    "O código abaixo gera entre 2 e 10 clusters para que seja feita a avaliação citada. \n"
   ]
  },
  {
   "cell_type": "code",
   "execution_count": 44,
   "metadata": {},
   "outputs": [
    {
     "data": {
      "text/plain": [
       "[<matplotlib.lines.Line2D at 0x1805ca46e50>]"
      ]
     },
     "execution_count": 44,
     "metadata": {},
     "output_type": "execute_result"
    },
    {
     "data": {
      "image/png": "[encoded data removed]",
      "text/plain": [
       "<Figure size 640x480 with 1 Axes>"
      ]
     },
     "metadata": {},
     "output_type": "display_data"
    }
   ],
   "source": [
    "K = range(2,10)\n",
    "\n",
    "cost = []\n",
    "\n",
    "for num_clusters in K:\n",
    "    kproto_elbow = KPrototypes(n_clusters=num_clusters, init='Cao', random_state=42)\n",
    "    kproto_elbow.fit_predict(clustering_df, categorical=[0,3,4,5,7,8])\n",
    "    cost.append(kproto_elbow.cost_)\n",
    "\n",
    "plt.plot(cost)"
   ]
  },
  {
   "cell_type": "markdown",
   "metadata": {},
   "source": [
    "Ao analisar o resultado, optou-se por utilizar três clusters.  \n",
    "o código abaixo aplica o algorítmo aos dados com o parâmetro de cluster igual a 3."
   ]
  },
  {
   "cell_type": "code",
   "execution_count": 45,
   "metadata": {},
   "outputs": [
    {
     "data": {
      "text/plain": [
       "array([0, 0, 0, ..., 0, 0, 0], dtype=uint16)"
      ]
     },
     "execution_count": 45,
     "metadata": {},
     "output_type": "execute_result"
    }
   ],
   "source": [
    "kproto = KPrototypes(n_clusters=3, init='Cao', random_state=42)\n",
    "kproto.fit_predict(clustering_df, categorical=[0,3,4,5,7,8])"
   ]
  },
  {
   "cell_type": "markdown",
   "metadata": {},
   "source": [
    "Após gerados os clusters, esses são associados ao banco de dados para caracterização dos clientes que a eles pertencem.  \n",
    "Uma amostra dos dados com o rótulo de qua cluster esses dados pertencem é apresentada."
   ]
  },
  {
   "cell_type": "code",
   "execution_count": 46,
   "metadata": {},
   "outputs": [
    {
     "data": {
      "text/html": [
       "<div>\n",
       "<style scoped>\n",
       "    .dataframe tbody tr th:only-of-type {\n",
       "        vertical-align: middle;\n",
       "    }\n",
       "\n",
       "    .dataframe tbody tr th {\n",
       "        vertical-align: top;\n",
       "    }\n",
       "\n",
       "    .dataframe thead th {\n",
       "        text-align: right;\n",
       "    }\n",
       "</style>\n",
       "<table border=\"1\" class=\"dataframe\">\n",
       "  <thead>\n",
       "    <tr style=\"text-align: right;\">\n",
       "      <th></th>\n",
       "      <th>account_id</th>\n",
       "      <th>order_origin</th>\n",
       "      <th>total_amount</th>\n",
       "      <th>subsidy_amount</th>\n",
       "      <th>city</th>\n",
       "      <th>dish_type</th>\n",
       "      <th>has_free_delivery</th>\n",
       "      <th>lag_last_order</th>\n",
       "      <th>ifood_status</th>\n",
       "      <th>ifood_status_last_month</th>\n",
       "      <th>total_order_count</th>\n",
       "      <th>cluster</th>\n",
       "    </tr>\n",
       "  </thead>\n",
       "  <tbody>\n",
       "    <tr>\n",
       "      <th>0</th>\n",
       "      <td>00073adf-7117-44ba-90fe-5879c9581b68</td>\n",
       "      <td>RESTAURANT</td>\n",
       "      <td>2737.500</td>\n",
       "      <td>0.0</td>\n",
       "      <td>CURITIBA</td>\n",
       "      <td>Marmita</td>\n",
       "      <td>True</td>\n",
       "      <td>6.0</td>\n",
       "      <td>Active</td>\n",
       "      <td>Active</td>\n",
       "      <td>270</td>\n",
       "      <td>0</td>\n",
       "    </tr>\n",
       "    <tr>\n",
       "      <th>1</th>\n",
       "      <td>000b1fec-8616-4014-9581-c5a944911ac3</td>\n",
       "      <td>RESTAURANT</td>\n",
       "      <td>5368.125</td>\n",
       "      <td>0.0</td>\n",
       "      <td>RIO DE JANEIRO</td>\n",
       "      <td>Lanches</td>\n",
       "      <td>False</td>\n",
       "      <td>0.0</td>\n",
       "      <td>Active</td>\n",
       "      <td>Active</td>\n",
       "      <td>791</td>\n",
       "      <td>0</td>\n",
       "    </tr>\n",
       "  </tbody>\n",
       "</table>\n",
       "</div>"
      ],
      "text/plain": [
       "                             account_id order_origin  total_amount  \\\n",
       "0  00073adf-7117-44ba-90fe-5879c9581b68   RESTAURANT      2737.500   \n",
       "1  000b1fec-8616-4014-9581-c5a944911ac3   RESTAURANT      5368.125   \n",
       "\n",
       "   subsidy_amount            city dish_type  has_free_delivery  \\\n",
       "0             0.0        CURITIBA   Marmita               True   \n",
       "1             0.0  RIO DE JANEIRO   Lanches              False   \n",
       "\n",
       "   lag_last_order ifood_status ifood_status_last_month  total_order_count  \\\n",
       "0             6.0       Active                  Active                270   \n",
       "1             0.0       Active                  Active                791   \n",
       "\n",
       "   cluster  \n",
       "0        0  \n",
       "1        0  "
      ]
     },
     "execution_count": 46,
     "metadata": {},
     "output_type": "execute_result"
    }
   ],
   "source": [
    "original_merged_df['cluster'] = kproto.labels_\n",
    "original_merged_df.head(2)"
   ]
  },
  {
   "cell_type": "markdown",
   "metadata": {},
   "source": [
    "As variáveis numéricas são separadas das categóricas e agrupadas pelos clusters.\n",
    "Tomou-se a decisão de calcular a mediana para cada uma das variáveis numéricas para reduzir a influência dos valores discrepantes."
   ]
  },
  {
   "cell_type": "code",
   "execution_count": 47,
   "metadata": {},
   "outputs": [
    {
     "data": {
      "text/html": [
       "<div>\n",
       "<style scoped>\n",
       "    .dataframe tbody tr th:only-of-type {\n",
       "        vertical-align: middle;\n",
       "    }\n",
       "\n",
       "    .dataframe tbody tr th {\n",
       "        vertical-align: top;\n",
       "    }\n",
       "\n",
       "    .dataframe thead th {\n",
       "        text-align: right;\n",
       "    }\n",
       "</style>\n",
       "<table border=\"1\" class=\"dataframe\">\n",
       "  <thead>\n",
       "    <tr style=\"text-align: right;\">\n",
       "      <th></th>\n",
       "      <th>total_amount</th>\n",
       "      <th>subsidy_amount</th>\n",
       "      <th>lag_last_order</th>\n",
       "      <th>total_order_count</th>\n",
       "    </tr>\n",
       "    <tr>\n",
       "      <th>cluster</th>\n",
       "      <th></th>\n",
       "      <th></th>\n",
       "      <th></th>\n",
       "      <th></th>\n",
       "    </tr>\n",
       "  </thead>\n",
       "  <tbody>\n",
       "    <tr>\n",
       "      <th>0</th>\n",
       "      <td>5558.75</td>\n",
       "      <td>0.00</td>\n",
       "      <td>1.5</td>\n",
       "      <td>345.0</td>\n",
       "    </tr>\n",
       "    <tr>\n",
       "      <th>1</th>\n",
       "      <td>4606.25</td>\n",
       "      <td>0.00</td>\n",
       "      <td>85.5</td>\n",
       "      <td>17.0</td>\n",
       "    </tr>\n",
       "    <tr>\n",
       "      <th>2</th>\n",
       "      <td>5236.25</td>\n",
       "      <td>498.75</td>\n",
       "      <td>715.0</td>\n",
       "      <td>16.0</td>\n",
       "    </tr>\n",
       "  </tbody>\n",
       "</table>\n",
       "</div>"
      ],
      "text/plain": [
       "         total_amount  subsidy_amount  lag_last_order  total_order_count\n",
       "cluster                                                                 \n",
       "0             5558.75            0.00             1.5              345.0\n",
       "1             4606.25            0.00            85.5               17.0\n",
       "2             5236.25          498.75           715.0               16.0"
      ]
     },
     "execution_count": 47,
     "metadata": {},
     "output_type": "execute_result"
    }
   ],
   "source": [
    "original_merged_num_cols = ['total_amount','subsidy_amount', 'lag_last_order', 'total_order_count', 'cluster']\n",
    "original_merged_num_df = original_merged_df[original_merged_num_cols]\n",
    "original_merged_num_df.groupby(['cluster']).median()"
   ]
  },
  {
   "cell_type": "markdown",
   "metadata": {},
   "source": [
    "As variáveis categóricas também foram agrupadas pelos clusters e aplicado o método describe para apresentar um resumo das informações.\n",
    "Para melhor interpretabilidade, os dados foram transpostos."
   ]
  },
  {
   "cell_type": "code",
   "execution_count": 48,
   "metadata": {},
   "outputs": [
    {
     "data": {
      "text/html": [
       "<div>\n",
       "<style scoped>\n",
       "    .dataframe tbody tr th:only-of-type {\n",
       "        vertical-align: middle;\n",
       "    }\n",
       "\n",
       "    .dataframe tbody tr th {\n",
       "        vertical-align: top;\n",
       "    }\n",
       "\n",
       "    .dataframe thead th {\n",
       "        text-align: right;\n",
       "    }\n",
       "</style>\n",
       "<table border=\"1\" class=\"dataframe\">\n",
       "  <thead>\n",
       "    <tr style=\"text-align: right;\">\n",
       "      <th></th>\n",
       "      <th>cluster</th>\n",
       "      <th>0</th>\n",
       "      <th>1</th>\n",
       "      <th>2</th>\n",
       "    </tr>\n",
       "  </thead>\n",
       "  <tbody>\n",
       "    <tr>\n",
       "      <th rowspan=\"4\" valign=\"top\">city</th>\n",
       "      <th>count</th>\n",
       "      <td>13449</td>\n",
       "      <td>314</td>\n",
       "      <td>9</td>\n",
       "    </tr>\n",
       "    <tr>\n",
       "      <th>unique</th>\n",
       "      <td>232</td>\n",
       "      <td>22</td>\n",
       "      <td>3</td>\n",
       "    </tr>\n",
       "    <tr>\n",
       "      <th>top</th>\n",
       "      <td>SAO PAULO</td>\n",
       "      <td>SAO PAULO</td>\n",
       "      <td>SAO PAULO</td>\n",
       "    </tr>\n",
       "    <tr>\n",
       "      <th>freq</th>\n",
       "      <td>6247</td>\n",
       "      <td>168</td>\n",
       "      <td>5</td>\n",
       "    </tr>\n",
       "    <tr>\n",
       "      <th rowspan=\"4\" valign=\"top\">order_origin</th>\n",
       "      <th>count</th>\n",
       "      <td>13449</td>\n",
       "      <td>314</td>\n",
       "      <td>9</td>\n",
       "    </tr>\n",
       "    <tr>\n",
       "      <th>unique</th>\n",
       "      <td>3</td>\n",
       "      <td>3</td>\n",
       "      <td>1</td>\n",
       "    </tr>\n",
       "    <tr>\n",
       "      <th>top</th>\n",
       "      <td>RESTAURANT</td>\n",
       "      <td>RESTAURANT</td>\n",
       "      <td>RESTAURANT</td>\n",
       "    </tr>\n",
       "    <tr>\n",
       "      <th>freq</th>\n",
       "      <td>13233</td>\n",
       "      <td>307</td>\n",
       "      <td>9</td>\n",
       "    </tr>\n",
       "    <tr>\n",
       "      <th rowspan=\"4\" valign=\"top\">ifood_status_last_month</th>\n",
       "      <th>count</th>\n",
       "      <td>13449</td>\n",
       "      <td>314</td>\n",
       "      <td>9</td>\n",
       "    </tr>\n",
       "    <tr>\n",
       "      <th>unique</th>\n",
       "      <td>4</td>\n",
       "      <td>4</td>\n",
       "      <td>3</td>\n",
       "    </tr>\n",
       "    <tr>\n",
       "      <th>top</th>\n",
       "      <td>Active</td>\n",
       "      <td>Inactive</td>\n",
       "      <td>Active</td>\n",
       "    </tr>\n",
       "    <tr>\n",
       "      <th>freq</th>\n",
       "      <td>10514</td>\n",
       "      <td>147</td>\n",
       "      <td>3</td>\n",
       "    </tr>\n",
       "    <tr>\n",
       "      <th rowspan=\"4\" valign=\"top\">ifood_status</th>\n",
       "      <th>count</th>\n",
       "      <td>13449</td>\n",
       "      <td>314</td>\n",
       "      <td>9</td>\n",
       "    </tr>\n",
       "    <tr>\n",
       "      <th>unique</th>\n",
       "      <td>4</td>\n",
       "      <td>4</td>\n",
       "      <td>3</td>\n",
       "    </tr>\n",
       "    <tr>\n",
       "      <th>top</th>\n",
       "      <td>Active</td>\n",
       "      <td>Inactive</td>\n",
       "      <td>Active</td>\n",
       "    </tr>\n",
       "    <tr>\n",
       "      <th>freq</th>\n",
       "      <td>8792</td>\n",
       "      <td>154</td>\n",
       "      <td>4</td>\n",
       "    </tr>\n",
       "    <tr>\n",
       "      <th rowspan=\"4\" valign=\"top\">dish_type</th>\n",
       "      <th>count</th>\n",
       "      <td>13449</td>\n",
       "      <td>314</td>\n",
       "      <td>9</td>\n",
       "    </tr>\n",
       "    <tr>\n",
       "      <th>unique</th>\n",
       "      <td>55</td>\n",
       "      <td>29</td>\n",
       "      <td>6</td>\n",
       "    </tr>\n",
       "    <tr>\n",
       "      <th>top</th>\n",
       "      <td>Lanches</td>\n",
       "      <td>Lanches</td>\n",
       "      <td>Comida Brasileira</td>\n",
       "    </tr>\n",
       "    <tr>\n",
       "      <th>freq</th>\n",
       "      <td>3948</td>\n",
       "      <td>96</td>\n",
       "      <td>3</td>\n",
       "    </tr>\n",
       "    <tr>\n",
       "      <th rowspan=\"4\" valign=\"top\">has_free_delivery</th>\n",
       "      <th>count</th>\n",
       "      <td>13449</td>\n",
       "      <td>314</td>\n",
       "      <td>9</td>\n",
       "    </tr>\n",
       "    <tr>\n",
       "      <th>unique</th>\n",
       "      <td>2</td>\n",
       "      <td>2</td>\n",
       "      <td>2</td>\n",
       "    </tr>\n",
       "    <tr>\n",
       "      <th>top</th>\n",
       "      <td>False</td>\n",
       "      <td>True</td>\n",
       "      <td>True</td>\n",
       "    </tr>\n",
       "    <tr>\n",
       "      <th>freq</th>\n",
       "      <td>7334</td>\n",
       "      <td>178</td>\n",
       "      <td>7</td>\n",
       "    </tr>\n",
       "  </tbody>\n",
       "</table>\n",
       "</div>"
      ],
      "text/plain": [
       "cluster                                  0           1                  2\n",
       "city                    count        13449         314                  9\n",
       "                        unique         232          22                  3\n",
       "                        top      SAO PAULO   SAO PAULO          SAO PAULO\n",
       "                        freq          6247         168                  5\n",
       "order_origin            count        13449         314                  9\n",
       "                        unique           3           3                  1\n",
       "                        top     RESTAURANT  RESTAURANT         RESTAURANT\n",
       "                        freq         13233         307                  9\n",
       "ifood_status_last_month count        13449         314                  9\n",
       "                        unique           4           4                  3\n",
       "                        top         Active    Inactive             Active\n",
       "                        freq         10514         147                  3\n",
       "ifood_status            count        13449         314                  9\n",
       "                        unique           4           4                  3\n",
       "                        top         Active    Inactive             Active\n",
       "                        freq          8792         154                  4\n",
       "dish_type               count        13449         314                  9\n",
       "                        unique          55          29                  6\n",
       "                        top        Lanches     Lanches  Comida Brasileira\n",
       "                        freq          3948          96                  3\n",
       "has_free_delivery       count        13449         314                  9\n",
       "                        unique           2           2                  2\n",
       "                        top          False        True               True\n",
       "                        freq          7334         178                  7"
      ]
     },
     "execution_count": 48,
     "metadata": {},
     "output_type": "execute_result"
    }
   ],
   "source": [
    "original_cat_cols = list(set(original_merged_df.columns) - set(original_merged_num_cols))\n",
    "original_cat_cols.append('cluster') \n",
    "original_merged_df[original_cat_cols].drop('account_id', axis=1).groupby('cluster').describe().T"
   ]
  },
  {
   "cell_type": "markdown",
   "metadata": {},
   "source": [
    "Abaixo são apresentados os três tipos de comida preferidos para cada cluster."
   ]
  },
  {
   "cell_type": "code",
   "execution_count": 54,
   "metadata": {},
   "outputs": [
    {
     "name": "stdout",
     "output_type": "stream",
     "text": [
      "cluster 0:\n",
      "dish_type\n",
      "Lanches              3948\n",
      "Comida Brasileira    2782\n",
      "Pizza                1459\n",
      "Name: count, dtype: int64\n",
      "cluster 1:\n",
      "dish_type\n",
      "Lanches              96\n",
      "Comida Brasileira    51\n",
      "Pizza                48\n",
      "Name: count, dtype: int64\n",
      "cluster 2:\n",
      "dish_type\n",
      "Comida Brasileira    3\n",
      "Lanches              2\n",
      "Açaí                 1\n",
      "Name: count, dtype: int64\n"
     ]
    }
   ],
   "source": [
    "print('cluster 0:')\n",
    "print(original_merged_df[original_merged_df['cluster'] == 0]['dish_type'].value_counts(ascending=False).head(3))\n",
    "\n",
    "print('cluster 1:')\n",
    "print(original_merged_df[original_merged_df['cluster'] == 1]['dish_type'].value_counts(ascending=False).head(3))\n",
    "\n",
    "print('cluster 2:')\n",
    "print(original_merged_df[original_merged_df['cluster'] == 2]['dish_type'].value_counts(ascending=False).head(3))"
   ]
  },
  {
   "cell_type": "code",
   "execution_count": 59,
   "metadata": {},
   "outputs": [
    {
     "name": "stdout",
     "output_type": "stream",
     "text": [
      "São Paulo corresponde a 46.62% das cidades dos clientes\n"
     ]
    }
   ],
   "source": [
    "sp_perc = ( original_merged_df[original_merged_df['city'] == 'SAO PAULO'].value_counts().sum() / original_merged_df.shape[0] ) * 100\n",
    "print(\"São Paulo corresponde a {:.2f}% das cidades dos clientes\".format(sp_perc))"
   ]
  },
  {
   "cell_type": "markdown",
   "metadata": {},
   "source": [
    "#### Conclusões  \n",
    "A seguir são apresentadas as características de cada cluster:\n",
    "\n",
    "**Cluster 0:**  \n",
    "Esse é o cluster mais ativo na plataforma, realizando pedidos semanalmente (1,5 dias entre pedidos) e o que mais gasta com pedidos (5558.75 U.M.). Esse grupo não leva em consideração os cupons de desconto na hora da compra, assim como a taxa de entrega grátis também não parece ser determinante. Apresenta preferência para seguintes tipos de comida: lanches, comida brasileira e pizza. destacando-se lanches, sendo a preferência de 3948 clientes.\n",
    "\n",
    "**Cluster 1:**  \n",
    " É o grupo que tem o gasto mais baixo comparado aos demais (4606.25 U.M.) e a frequência entre pedidos é de 85,5 dias. Esse grupo também não leva em consideração os cupons de desconto na hora da compra, assim como o cluster 0, mas a taxa de entrega grátis mostra-se um fator de decisão importante, sendo a escolha mais comum de 178 clientes do total de 314. Já a preferência para os tipos de comida são lanches, comida brasileira e pizza.\n",
    "\n",
    "**Cluster 2:**  \n",
    "Por fim, o cluster 2 é o que apresenta um gasto intermediário (5236.25 U.M.), porém a frequência de uso da plataforma é muito baixa, cerca de um pedido a cada 715 dias. Esse grupo busca por cupons de desconto na hora da compra e a taxa de entrega grátis é um fator importante. A preferência  é pelos tipos de comida: comida brasileira, lanche e açai. Cabe ressaltar, que o número de observações deste grupo é muito pequeno (n=9), o que pode causar distorções na interpretação de algumas variáveis, como é o caso de “ifood_status” e “ifood_status_last_month”, em que mesmo possuindo um intervalo grande entre pedidos (mediana de 715 dias), os clientes aparecem como ativos na plataforma, como se estivessem realizando pedidos mensalmente.\n",
    "\n",
    "Como características comuns entre os três clusters formados, o tipo de propaganda que mais funciona na plataforma é o de restaurantes. A cidade de São Paulo destacou-se por ser a cidade com mais comum entre os clientes, correspondendo a 46,62%."
   ]
  }
 ],
 "metadata": {
  "kernelspec": {
   "display_name": "venv",
   "language": "python",
   "name": "python3"
  },
  "language_info": {
   "codemirror_mode": {
    "name": "ipython",
    "version": 3
   },
   "file_extension": ".py",
   "mimetype": "text/x-python",
   "name": "python",
   "nbconvert_exporter": "python",
   "pygments_lexer": "ipython3",
   "version": "3.11.4"
  },
  "orig_nbformat": 4
 },
 "nbformat": 4,
 "nbformat_minor": 2
}
